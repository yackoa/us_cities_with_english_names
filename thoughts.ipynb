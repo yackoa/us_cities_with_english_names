{
 "cells": [
  {
   "cell_type": "markdown",
   "metadata": {},
   "source": [
    "# The Hypothesis"
   ]
  },
  {
   "cell_type": "markdown",
   "metadata": {},
   "source": [
    "“Since the UK was one of the main countries that colonised the USA, and the UK is on the east side of\n",
    "the USA there are more towns/cities with UK names on the east coast of the US rather than the west\n",
    "coast”"
   ]
  },
  {
   "cell_type": "markdown",
   "metadata": {},
   "source": [
    "## Data"
   ]
  },
  {
   "cell_type": "markdown",
   "metadata": {},
   "source": [
    "https://github.com/apache/commons-csv/raw/master/src/test/resources/perf/worldcitiespop.txt.gz"
   ]
  },
  {
   "cell_type": "markdown",
   "metadata": {},
   "source": [
    "lets get the imports out of the way"
   ]
  },
  {
   "cell_type": "code",
   "execution_count": 4,
   "metadata": {},
   "outputs": [],
   "source": [
    "import pandas as pd"
   ]
  },
  {
   "cell_type": "code",
   "execution_count": 5,
   "metadata": {},
   "outputs": [],
   "source": [
    "dataset = \"/home/stormfield/scratch/DLG/worldcitiespop.txt\""
   ]
  },
  {
   "cell_type": "code",
   "execution_count": 11,
   "metadata": {},
   "outputs": [],
   "source": [
    "dataset_df = pd.read_csv(dataset,encoding = \"ISO-8859-1\", low_memory=False)"
   ]
  },
  {
   "cell_type": "markdown",
   "metadata": {},
   "source": [
    "the file wasn't UTF-8 encoded. The is 'ISO-8859-1' encoded (LATIN-1)"
   ]
  },
  {
   "cell_type": "markdown",
   "metadata": {},
   "source": [
    "(I was about seek clarification regarding th encoding, but on closer examination of the actual use of the dataset in the apache commons, bench marking test class in github, it seems the file was infact 'ISO-8859-1'. Please refer [this](https://github.com/apache/commons-csv/blob/master/src/test/java/org/apache/commons/csv/CSVBenchmark.java) java file at line numbers 64 & 66)"
   ]
  },
  {
   "cell_type": "markdown",
   "metadata": {},
   "source": [
    "## Data Exploration"
   ]
  },
  {
   "cell_type": "markdown",
   "metadata": {},
   "source": [
    "Lets see what the data looks like"
   ]
  },
  {
   "cell_type": "code",
   "execution_count": 12,
   "metadata": {},
   "outputs": [
    {
     "data": {
      "text/html": [
       "<div>\n",
       "<style scoped>\n",
       "    .dataframe tbody tr th:only-of-type {\n",
       "        vertical-align: middle;\n",
       "    }\n",
       "\n",
       "    .dataframe tbody tr th {\n",
       "        vertical-align: top;\n",
       "    }\n",
       "\n",
       "    .dataframe thead th {\n",
       "        text-align: right;\n",
       "    }\n",
       "</style>\n",
       "<table border=\"1\" class=\"dataframe\">\n",
       "  <thead>\n",
       "    <tr style=\"text-align: right;\">\n",
       "      <th></th>\n",
       "      <th>Country</th>\n",
       "      <th>City</th>\n",
       "      <th>AccentCity</th>\n",
       "      <th>Region</th>\n",
       "      <th>Population</th>\n",
       "      <th>Latitude</th>\n",
       "      <th>Longitude</th>\n",
       "    </tr>\n",
       "  </thead>\n",
       "  <tbody>\n",
       "    <tr>\n",
       "      <th>0</th>\n",
       "      <td>ad</td>\n",
       "      <td>aixas</td>\n",
       "      <td>Aixàs</td>\n",
       "      <td>06</td>\n",
       "      <td>NaN</td>\n",
       "      <td>42.483333</td>\n",
       "      <td>1.466667</td>\n",
       "    </tr>\n",
       "    <tr>\n",
       "      <th>1</th>\n",
       "      <td>ad</td>\n",
       "      <td>aixirivali</td>\n",
       "      <td>Aixirivali</td>\n",
       "      <td>06</td>\n",
       "      <td>NaN</td>\n",
       "      <td>42.466667</td>\n",
       "      <td>1.500000</td>\n",
       "    </tr>\n",
       "    <tr>\n",
       "      <th>2</th>\n",
       "      <td>ad</td>\n",
       "      <td>aixirivall</td>\n",
       "      <td>Aixirivall</td>\n",
       "      <td>06</td>\n",
       "      <td>NaN</td>\n",
       "      <td>42.466667</td>\n",
       "      <td>1.500000</td>\n",
       "    </tr>\n",
       "    <tr>\n",
       "      <th>3</th>\n",
       "      <td>ad</td>\n",
       "      <td>aixirvall</td>\n",
       "      <td>Aixirvall</td>\n",
       "      <td>06</td>\n",
       "      <td>NaN</td>\n",
       "      <td>42.466667</td>\n",
       "      <td>1.500000</td>\n",
       "    </tr>\n",
       "    <tr>\n",
       "      <th>4</th>\n",
       "      <td>ad</td>\n",
       "      <td>aixovall</td>\n",
       "      <td>Aixovall</td>\n",
       "      <td>06</td>\n",
       "      <td>NaN</td>\n",
       "      <td>42.466667</td>\n",
       "      <td>1.483333</td>\n",
       "    </tr>\n",
       "  </tbody>\n",
       "</table>\n",
       "</div>"
      ],
      "text/plain": [
       "  Country        City  AccentCity Region  Population   Latitude  Longitude\n",
       "0      ad       aixas       Aixàs     06         NaN  42.483333   1.466667\n",
       "1      ad  aixirivali  Aixirivali     06         NaN  42.466667   1.500000\n",
       "2      ad  aixirivall  Aixirivall     06         NaN  42.466667   1.500000\n",
       "3      ad   aixirvall   Aixirvall     06         NaN  42.466667   1.500000\n",
       "4      ad    aixovall    Aixovall     06         NaN  42.466667   1.483333"
      ]
     },
     "execution_count": 12,
     "metadata": {},
     "output_type": "execute_result"
    }
   ],
   "source": [
    "dataset_df.head()"
   ]
  },
  {
   "cell_type": "markdown",
   "metadata": {},
   "source": [
    "Lets verify the assumption of country names ie GB for United Kingdom & US for United States of America. [source](https://en.wikipedia.org/wiki/List_of_ISO_3166_country_codes)"
   ]
  },
  {
   "cell_type": "code",
   "execution_count": 17,
   "metadata": {},
   "outputs": [
    {
     "data": {
      "text/plain": [
       "True"
      ]
     },
     "execution_count": 17,
     "metadata": {},
     "output_type": "execute_result"
    }
   ],
   "source": [
    "# united kingdom\n",
    "'gb' in dataset_df['Country'].unique()"
   ]
  },
  {
   "cell_type": "code",
   "execution_count": 18,
   "metadata": {},
   "outputs": [
    {
     "data": {
      "text/plain": [
       "True"
      ]
     },
     "execution_count": 18,
     "metadata": {},
     "output_type": "execute_result"
    }
   ],
   "source": [
    "# USA\n",
    "'us' in dataset_df['Country'].unique()"
   ]
  },
  {
   "cell_type": "markdown",
   "metadata": {},
   "source": [
    "lets see what each of the data looks like"
   ]
  },
  {
   "cell_type": "code",
   "execution_count": 21,
   "metadata": {},
   "outputs": [
    {
     "data": {
      "text/html": [
       "<div>\n",
       "<style scoped>\n",
       "    .dataframe tbody tr th:only-of-type {\n",
       "        vertical-align: middle;\n",
       "    }\n",
       "\n",
       "    .dataframe tbody tr th {\n",
       "        vertical-align: top;\n",
       "    }\n",
       "\n",
       "    .dataframe thead th {\n",
       "        text-align: right;\n",
       "    }\n",
       "</style>\n",
       "<table border=\"1\" class=\"dataframe\">\n",
       "  <thead>\n",
       "    <tr style=\"text-align: right;\">\n",
       "      <th></th>\n",
       "      <th>Country</th>\n",
       "      <th>City</th>\n",
       "      <th>AccentCity</th>\n",
       "      <th>Region</th>\n",
       "      <th>Population</th>\n",
       "      <th>Latitude</th>\n",
       "      <th>Longitude</th>\n",
       "    </tr>\n",
       "  </thead>\n",
       "  <tbody>\n",
       "    <tr>\n",
       "      <th>826690</th>\n",
       "      <td>gb</td>\n",
       "      <td>abberley</td>\n",
       "      <td>Abberley</td>\n",
       "      <td>Q4</td>\n",
       "      <td>NaN</td>\n",
       "      <td>52.300000</td>\n",
       "      <td>-2.366667</td>\n",
       "    </tr>\n",
       "    <tr>\n",
       "      <th>826691</th>\n",
       "      <td>gb</td>\n",
       "      <td>abberton</td>\n",
       "      <td>Abberton</td>\n",
       "      <td>F2</td>\n",
       "      <td>NaN</td>\n",
       "      <td>51.833333</td>\n",
       "      <td>0.916667</td>\n",
       "    </tr>\n",
       "    <tr>\n",
       "      <th>826692</th>\n",
       "      <td>gb</td>\n",
       "      <td>abberton</td>\n",
       "      <td>Abberton</td>\n",
       "      <td>F7</td>\n",
       "      <td>NaN</td>\n",
       "      <td>52.183333</td>\n",
       "      <td>-2.016667</td>\n",
       "    </tr>\n",
       "    <tr>\n",
       "      <th>826693</th>\n",
       "      <td>gb</td>\n",
       "      <td>abbess roding</td>\n",
       "      <td>Abbess Roding</td>\n",
       "      <td>E4</td>\n",
       "      <td>NaN</td>\n",
       "      <td>51.783333</td>\n",
       "      <td>0.266667</td>\n",
       "    </tr>\n",
       "    <tr>\n",
       "      <th>826694</th>\n",
       "      <td>gb</td>\n",
       "      <td>abbey-cwmhir</td>\n",
       "      <td>Abbey-Cwmhir</td>\n",
       "      <td>Y8</td>\n",
       "      <td>NaN</td>\n",
       "      <td>52.333333</td>\n",
       "      <td>-3.400000</td>\n",
       "    </tr>\n",
       "  </tbody>\n",
       "</table>\n",
       "</div>"
      ],
      "text/plain": [
       "       Country           City     AccentCity Region  Population   Latitude  \\\n",
       "826690      gb       abberley       Abberley     Q4         NaN  52.300000   \n",
       "826691      gb       abberton       Abberton     F2         NaN  51.833333   \n",
       "826692      gb       abberton       Abberton     F7         NaN  52.183333   \n",
       "826693      gb  abbess roding  Abbess Roding     E4         NaN  51.783333   \n",
       "826694      gb   abbey-cwmhir   Abbey-Cwmhir     Y8         NaN  52.333333   \n",
       "\n",
       "        Longitude  \n",
       "826690  -2.366667  \n",
       "826691   0.916667  \n",
       "826692  -2.016667  \n",
       "826693   0.266667  \n",
       "826694  -3.400000  "
      ]
     },
     "execution_count": 21,
     "metadata": {},
     "output_type": "execute_result"
    }
   ],
   "source": [
    "#uk_cities  \n",
    "dataset_df.loc[dataset_df['Country'] == 'gb' ].head()"
   ]
  },
  {
   "cell_type": "code",
   "execution_count": 30,
   "metadata": {},
   "outputs": [
    {
     "data": {
      "text/html": [
       "<div>\n",
       "<style scoped>\n",
       "    .dataframe tbody tr th:only-of-type {\n",
       "        vertical-align: middle;\n",
       "    }\n",
       "\n",
       "    .dataframe tbody tr th {\n",
       "        vertical-align: top;\n",
       "    }\n",
       "\n",
       "    .dataframe thead th {\n",
       "        text-align: right;\n",
       "    }\n",
       "</style>\n",
       "<table border=\"1\" class=\"dataframe\">\n",
       "  <thead>\n",
       "    <tr style=\"text-align: right;\">\n",
       "      <th></th>\n",
       "      <th>Country</th>\n",
       "      <th>City</th>\n",
       "      <th>AccentCity</th>\n",
       "      <th>Region</th>\n",
       "      <th>Population</th>\n",
       "      <th>Latitude</th>\n",
       "      <th>Longitude</th>\n",
       "    </tr>\n",
       "  </thead>\n",
       "  <tbody>\n",
       "    <tr>\n",
       "      <th>2532482</th>\n",
       "      <td>us</td>\n",
       "      <td>abanda</td>\n",
       "      <td>Abanda</td>\n",
       "      <td>AL</td>\n",
       "      <td>NaN</td>\n",
       "      <td>33.100833</td>\n",
       "      <td>-85.529722</td>\n",
       "    </tr>\n",
       "    <tr>\n",
       "      <th>2532483</th>\n",
       "      <td>us</td>\n",
       "      <td>abbeville</td>\n",
       "      <td>Abbeville</td>\n",
       "      <td>AL</td>\n",
       "      <td>NaN</td>\n",
       "      <td>31.571667</td>\n",
       "      <td>-85.250556</td>\n",
       "    </tr>\n",
       "    <tr>\n",
       "      <th>2532484</th>\n",
       "      <td>us</td>\n",
       "      <td>abbot springs</td>\n",
       "      <td>Abbot Springs</td>\n",
       "      <td>AL</td>\n",
       "      <td>NaN</td>\n",
       "      <td>33.360833</td>\n",
       "      <td>-86.481667</td>\n",
       "    </tr>\n",
       "    <tr>\n",
       "      <th>2532485</th>\n",
       "      <td>us</td>\n",
       "      <td>abel</td>\n",
       "      <td>Abel</td>\n",
       "      <td>AL</td>\n",
       "      <td>NaN</td>\n",
       "      <td>33.548611</td>\n",
       "      <td>-85.712500</td>\n",
       "    </tr>\n",
       "    <tr>\n",
       "      <th>2532486</th>\n",
       "      <td>us</td>\n",
       "      <td>abercrombie</td>\n",
       "      <td>Abercrombie</td>\n",
       "      <td>AL</td>\n",
       "      <td>NaN</td>\n",
       "      <td>32.848611</td>\n",
       "      <td>-87.165000</td>\n",
       "    </tr>\n",
       "  </tbody>\n",
       "</table>\n",
       "</div>"
      ],
      "text/plain": [
       "        Country           City     AccentCity Region  Population   Latitude  \\\n",
       "2532482      us         abanda         Abanda     AL         NaN  33.100833   \n",
       "2532483      us      abbeville      Abbeville     AL         NaN  31.571667   \n",
       "2532484      us  abbot springs  Abbot Springs     AL         NaN  33.360833   \n",
       "2532485      us           abel           Abel     AL         NaN  33.548611   \n",
       "2532486      us    abercrombie    Abercrombie     AL         NaN  32.848611   \n",
       "\n",
       "         Longitude  \n",
       "2532482 -85.529722  \n",
       "2532483 -85.250556  \n",
       "2532484 -86.481667  \n",
       "2532485 -85.712500  \n",
       "2532486 -87.165000  "
      ]
     },
     "execution_count": 30,
     "metadata": {},
     "output_type": "execute_result"
    }
   ],
   "source": [
    "#us_cities\n",
    "dataset_df.loc[dataset_df['Country'] == 'us' ].head()"
   ]
  },
  {
   "cell_type": "code",
   "execution_count": 116,
   "metadata": {},
   "outputs": [],
   "source": [
    "us = dataset_df.loc[dataset_df['Country'] == 'us' ].copy()"
   ]
  },
  {
   "cell_type": "code",
   "execution_count": 117,
   "metadata": {},
   "outputs": [],
   "source": [
    "uk=  dataset_df.loc[dataset_df['Country'] == 'gb' ].copy()"
   ]
  },
  {
   "cell_type": "code",
   "execution_count": 118,
   "metadata": {},
   "outputs": [
    {
     "data": {
      "text/plain": [
       "56025"
      ]
     },
     "execution_count": 118,
     "metadata": {},
     "output_type": "execute_result"
    }
   ],
   "source": [
    "us.duplicated('City').sum()"
   ]
  },
  {
   "cell_type": "code",
   "execution_count": 119,
   "metadata": {},
   "outputs": [
    {
     "data": {
      "text/plain": [
       "1437"
      ]
     },
     "execution_count": 119,
     "metadata": {},
     "output_type": "execute_result"
    }
   ],
   "source": [
    "uk.duplicated('City').sum()"
   ]
  },
  {
   "cell_type": "code",
   "execution_count": 120,
   "metadata": {},
   "outputs": [
    {
     "data": {
      "text/html": [
       "<div>\n",
       "<style scoped>\n",
       "    .dataframe tbody tr th:only-of-type {\n",
       "        vertical-align: middle;\n",
       "    }\n",
       "\n",
       "    .dataframe tbody tr th {\n",
       "        vertical-align: top;\n",
       "    }\n",
       "\n",
       "    .dataframe thead th {\n",
       "        text-align: right;\n",
       "    }\n",
       "</style>\n",
       "<table border=\"1\" class=\"dataframe\">\n",
       "  <thead>\n",
       "    <tr style=\"text-align: right;\">\n",
       "      <th></th>\n",
       "      <th>Country</th>\n",
       "      <th>City</th>\n",
       "      <th>AccentCity</th>\n",
       "      <th>Region</th>\n",
       "      <th>Population</th>\n",
       "      <th>Latitude</th>\n",
       "      <th>Longitude</th>\n",
       "    </tr>\n",
       "  </thead>\n",
       "  <tbody>\n",
       "    <tr>\n",
       "      <th>2534705</th>\n",
       "      <td>us</td>\n",
       "      <td>london</td>\n",
       "      <td>London</td>\n",
       "      <td>AL</td>\n",
       "      <td>NaN</td>\n",
       "      <td>31.297500</td>\n",
       "      <td>-87.087778</td>\n",
       "    </tr>\n",
       "    <tr>\n",
       "      <th>2541129</th>\n",
       "      <td>us</td>\n",
       "      <td>london</td>\n",
       "      <td>London</td>\n",
       "      <td>AR</td>\n",
       "      <td>NaN</td>\n",
       "      <td>35.328889</td>\n",
       "      <td>-93.252778</td>\n",
       "    </tr>\n",
       "    <tr>\n",
       "      <th>2545390</th>\n",
       "      <td>us</td>\n",
       "      <td>london</td>\n",
       "      <td>London</td>\n",
       "      <td>CA</td>\n",
       "      <td>NaN</td>\n",
       "      <td>36.476111</td>\n",
       "      <td>-119.442222</td>\n",
       "    </tr>\n",
       "    <tr>\n",
       "      <th>2567874</th>\n",
       "      <td>us</td>\n",
       "      <td>london</td>\n",
       "      <td>London</td>\n",
       "      <td>IN</td>\n",
       "      <td>NaN</td>\n",
       "      <td>39.625556</td>\n",
       "      <td>-85.920278</td>\n",
       "    </tr>\n",
       "    <tr>\n",
       "      <th>2575484</th>\n",
       "      <td>us</td>\n",
       "      <td>london</td>\n",
       "      <td>London</td>\n",
       "      <td>KY</td>\n",
       "      <td>NaN</td>\n",
       "      <td>37.128889</td>\n",
       "      <td>-84.083333</td>\n",
       "    </tr>\n",
       "  </tbody>\n",
       "</table>\n",
       "</div>"
      ],
      "text/plain": [
       "        Country    City AccentCity Region  Population   Latitude   Longitude\n",
       "2534705      us  london     London     AL         NaN  31.297500  -87.087778\n",
       "2541129      us  london     London     AR         NaN  35.328889  -93.252778\n",
       "2545390      us  london     London     CA         NaN  36.476111 -119.442222\n",
       "2567874      us  london     London     IN         NaN  39.625556  -85.920278\n",
       "2575484      us  london     London     KY         NaN  37.128889  -84.083333"
      ]
     },
     "execution_count": 120,
     "metadata": {},
     "output_type": "execute_result"
    }
   ],
   "source": [
    "us.loc[us['City'] == 'london' ].head()"
   ]
  },
  {
   "cell_type": "markdown",
   "metadata": {},
   "source": [
    "Since the current task is see if the UK cities are there in US we need to only consider distinct cities in UK. \n",
    "\n",
    "But for US we need to consider all the cities since the same city name could be in more than one region. For example the UK city `London` is there in more than one region in the USA.\n",
    "Hence they are valid for our analysis.\n",
    "\n",
    "So for the UK data we will consider distinct city names"
   ]
  },
  {
   "cell_type": "code",
   "execution_count": 121,
   "metadata": {},
   "outputs": [],
   "source": [
    " uk.drop_duplicates(subset='City',inplace=True)"
   ]
  }
 ],
 "metadata": {
  "kernelspec": {
   "display_name": "Python 3",
   "language": "python",
   "name": "python3"
  },
  "language_info": {
   "codemirror_mode": {
    "name": "ipython",
    "version": 3
   },
   "file_extension": ".py",
   "mimetype": "text/x-python",
   "name": "python",
   "nbconvert_exporter": "python",
   "pygments_lexer": "ipython3",
   "version": "3.7.2"
  }
 },
 "nbformat": 4,
 "nbformat_minor": 2
}
