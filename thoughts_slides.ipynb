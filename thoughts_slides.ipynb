{
 "cells": [
  {
   "cell_type": "markdown",
   "metadata": {},
   "source": [
    "# The Hypothesis"
   ]
  },
  {
   "cell_type": "markdown",
   "metadata": {},
   "source": [
    "“Since the UK was one of the main countries that colonised the USA, and the UK is on the east side of\n",
    "the USA there are more towns/cities with UK names on the east coast of the US rather than the west\n",
    "coast”"
   ]
  },
  {
   "cell_type": "markdown",
   "metadata": {},
   "source": [
    "## Data"
   ]
  },
  {
   "cell_type": "markdown",
   "metadata": {},
   "source": [
    "https://github.com/apache/commons-csv/raw/master/src/test/resources/perf/worldcitiespop.txt.gz"
   ]
  },
  {
   "cell_type": "markdown",
   "metadata": {},
   "source": [
    "lets get the imports out of the way"
   ]
  },
  {
   "cell_type": "code",
   "execution_count": 4,
   "metadata": {},
   "outputs": [],
   "source": [
    "import pandas as pd"
   ]
  },
  {
   "cell_type": "code",
   "execution_count": 5,
   "metadata": {},
   "outputs": [],
   "source": [
    "dataset = \"/home/stormfield/scratch/DLG/worldcitiespop.txt\""
   ]
  },
  {
   "cell_type": "code",
   "execution_count": 11,
   "metadata": {},
   "outputs": [],
   "source": [
    "dataset_df = pd.read_csv(dataset,encoding = \"ISO-8859-1\", low_memory=False)"
   ]
  },
  {
   "cell_type": "markdown",
   "metadata": {},
   "source": [
    "the file wasn't UTF-8 encoded. The is 'ISO-8859-1' encoded (LATIN-1)"
   ]
  },
  {
   "cell_type": "markdown",
   "metadata": {},
   "source": [
    "(I was about seek clarification regarding th encoding, but on closer examination of the actual use of the dataset in the apache commons, bench marking test class in github, it seems the file was infact 'ISO-8859-1'. Please refer [this](https://github.com/apache/commons-csv/blob/master/src/test/java/org/apache/commons/csv/CSVBenchmark.java) java file at line numbers 64 & 66)"
   ]
  },
  {
   "cell_type": "markdown",
   "metadata": {},
   "source": [
    "## Data Exploration"
   ]
  },
  {
   "cell_type": "markdown",
   "metadata": {},
   "source": [
    "Lets see what the data looks like"
   ]
  },
  {
   "cell_type": "code",
   "execution_count": 12,
   "metadata": {},
   "outputs": [
    {
     "data": {
      "text/html": [
       "<div>\n",
       "<style scoped>\n",
       "    .dataframe tbody tr th:only-of-type {\n",
       "        vertical-align: middle;\n",
       "    }\n",
       "\n",
       "    .dataframe tbody tr th {\n",
       "        vertical-align: top;\n",
       "    }\n",
       "\n",
       "    .dataframe thead th {\n",
       "        text-align: right;\n",
       "    }\n",
       "</style>\n",
       "<table border=\"1\" class=\"dataframe\">\n",
       "  <thead>\n",
       "    <tr style=\"text-align: right;\">\n",
       "      <th></th>\n",
       "      <th>Country</th>\n",
       "      <th>City</th>\n",
       "      <th>AccentCity</th>\n",
       "      <th>Region</th>\n",
       "      <th>Population</th>\n",
       "      <th>Latitude</th>\n",
       "      <th>Longitude</th>\n",
       "    </tr>\n",
       "  </thead>\n",
       "  <tbody>\n",
       "    <tr>\n",
       "      <th>0</th>\n",
       "      <td>ad</td>\n",
       "      <td>aixas</td>\n",
       "      <td>Aixàs</td>\n",
       "      <td>06</td>\n",
       "      <td>NaN</td>\n",
       "      <td>42.483333</td>\n",
       "      <td>1.466667</td>\n",
       "    </tr>\n",
       "    <tr>\n",
       "      <th>1</th>\n",
       "      <td>ad</td>\n",
       "      <td>aixirivali</td>\n",
       "      <td>Aixirivali</td>\n",
       "      <td>06</td>\n",
       "      <td>NaN</td>\n",
       "      <td>42.466667</td>\n",
       "      <td>1.500000</td>\n",
       "    </tr>\n",
       "    <tr>\n",
       "      <th>2</th>\n",
       "      <td>ad</td>\n",
       "      <td>aixirivall</td>\n",
       "      <td>Aixirivall</td>\n",
       "      <td>06</td>\n",
       "      <td>NaN</td>\n",
       "      <td>42.466667</td>\n",
       "      <td>1.500000</td>\n",
       "    </tr>\n",
       "    <tr>\n",
       "      <th>3</th>\n",
       "      <td>ad</td>\n",
       "      <td>aixirvall</td>\n",
       "      <td>Aixirvall</td>\n",
       "      <td>06</td>\n",
       "      <td>NaN</td>\n",
       "      <td>42.466667</td>\n",
       "      <td>1.500000</td>\n",
       "    </tr>\n",
       "    <tr>\n",
       "      <th>4</th>\n",
       "      <td>ad</td>\n",
       "      <td>aixovall</td>\n",
       "      <td>Aixovall</td>\n",
       "      <td>06</td>\n",
       "      <td>NaN</td>\n",
       "      <td>42.466667</td>\n",
       "      <td>1.483333</td>\n",
       "    </tr>\n",
       "  </tbody>\n",
       "</table>\n",
       "</div>"
      ],
      "text/plain": [
       "  Country        City  AccentCity Region  Population   Latitude  Longitude\n",
       "0      ad       aixas       Aixàs     06         NaN  42.483333   1.466667\n",
       "1      ad  aixirivali  Aixirivali     06         NaN  42.466667   1.500000\n",
       "2      ad  aixirivall  Aixirivall     06         NaN  42.466667   1.500000\n",
       "3      ad   aixirvall   Aixirvall     06         NaN  42.466667   1.500000\n",
       "4      ad    aixovall    Aixovall     06         NaN  42.466667   1.483333"
      ]
     },
     "execution_count": 12,
     "metadata": {},
     "output_type": "execute_result"
    }
   ],
   "source": [
    "dataset_df.head()"
   ]
  },
  {
   "cell_type": "markdown",
   "metadata": {},
   "source": [
    "Lets verify the assumption of country names ie GB for United Kingdom & US for United States of America. [source](https://en.wikipedia.org/wiki/List_of_ISO_3166_country_codes)"
   ]
  },
  {
   "cell_type": "code",
   "execution_count": 17,
   "metadata": {},
   "outputs": [
    {
     "data": {
      "text/plain": [
       "True"
      ]
     },
     "execution_count": 17,
     "metadata": {},
     "output_type": "execute_result"
    }
   ],
   "source": [
    "# united kingdom\n",
    "'gb' in dataset_df['Country'].unique()"
   ]
  },
  {
   "cell_type": "code",
   "execution_count": 18,
   "metadata": {},
   "outputs": [
    {
     "data": {
      "text/plain": [
       "True"
      ]
     },
     "execution_count": 18,
     "metadata": {},
     "output_type": "execute_result"
    }
   ],
   "source": [
    "# USA\n",
    "'us' in dataset_df['Country'].unique()"
   ]
  },
  {
   "cell_type": "markdown",
   "metadata": {},
   "source": [
    "lets see what each of the data looks like"
   ]
  },
  {
   "cell_type": "code",
   "execution_count": 21,
   "metadata": {},
   "outputs": [
    {
     "data": {
      "text/html": [
       "<div>\n",
       "<style scoped>\n",
       "    .dataframe tbody tr th:only-of-type {\n",
       "        vertical-align: middle;\n",
       "    }\n",
       "\n",
       "    .dataframe tbody tr th {\n",
       "        vertical-align: top;\n",
       "    }\n",
       "\n",
       "    .dataframe thead th {\n",
       "        text-align: right;\n",
       "    }\n",
       "</style>\n",
       "<table border=\"1\" class=\"dataframe\">\n",
       "  <thead>\n",
       "    <tr style=\"text-align: right;\">\n",
       "      <th></th>\n",
       "      <th>Country</th>\n",
       "      <th>City</th>\n",
       "      <th>AccentCity</th>\n",
       "      <th>Region</th>\n",
       "      <th>Population</th>\n",
       "      <th>Latitude</th>\n",
       "      <th>Longitude</th>\n",
       "    </tr>\n",
       "  </thead>\n",
       "  <tbody>\n",
       "    <tr>\n",
       "      <th>826690</th>\n",
       "      <td>gb</td>\n",
       "      <td>abberley</td>\n",
       "      <td>Abberley</td>\n",
       "      <td>Q4</td>\n",
       "      <td>NaN</td>\n",
       "      <td>52.300000</td>\n",
       "      <td>-2.366667</td>\n",
       "    </tr>\n",
       "    <tr>\n",
       "      <th>826691</th>\n",
       "      <td>gb</td>\n",
       "      <td>abberton</td>\n",
       "      <td>Abberton</td>\n",
       "      <td>F2</td>\n",
       "      <td>NaN</td>\n",
       "      <td>51.833333</td>\n",
       "      <td>0.916667</td>\n",
       "    </tr>\n",
       "    <tr>\n",
       "      <th>826692</th>\n",
       "      <td>gb</td>\n",
       "      <td>abberton</td>\n",
       "      <td>Abberton</td>\n",
       "      <td>F7</td>\n",
       "      <td>NaN</td>\n",
       "      <td>52.183333</td>\n",
       "      <td>-2.016667</td>\n",
       "    </tr>\n",
       "    <tr>\n",
       "      <th>826693</th>\n",
       "      <td>gb</td>\n",
       "      <td>abbess roding</td>\n",
       "      <td>Abbess Roding</td>\n",
       "      <td>E4</td>\n",
       "      <td>NaN</td>\n",
       "      <td>51.783333</td>\n",
       "      <td>0.266667</td>\n",
       "    </tr>\n",
       "    <tr>\n",
       "      <th>826694</th>\n",
       "      <td>gb</td>\n",
       "      <td>abbey-cwmhir</td>\n",
       "      <td>Abbey-Cwmhir</td>\n",
       "      <td>Y8</td>\n",
       "      <td>NaN</td>\n",
       "      <td>52.333333</td>\n",
       "      <td>-3.400000</td>\n",
       "    </tr>\n",
       "  </tbody>\n",
       "</table>\n",
       "</div>"
      ],
      "text/plain": [
       "       Country           City     AccentCity Region  Population   Latitude  \\\n",
       "826690      gb       abberley       Abberley     Q4         NaN  52.300000   \n",
       "826691      gb       abberton       Abberton     F2         NaN  51.833333   \n",
       "826692      gb       abberton       Abberton     F7         NaN  52.183333   \n",
       "826693      gb  abbess roding  Abbess Roding     E4         NaN  51.783333   \n",
       "826694      gb   abbey-cwmhir   Abbey-Cwmhir     Y8         NaN  52.333333   \n",
       "\n",
       "        Longitude  \n",
       "826690  -2.366667  \n",
       "826691   0.916667  \n",
       "826692  -2.016667  \n",
       "826693   0.266667  \n",
       "826694  -3.400000  "
      ]
     },
     "execution_count": 21,
     "metadata": {},
     "output_type": "execute_result"
    }
   ],
   "source": [
    "#uk_cities  \n",
    "dataset_df.loc[dataset_df['Country'] == 'gb' ].head()"
   ]
  },
  {
   "cell_type": "code",
   "execution_count": 30,
   "metadata": {},
   "outputs": [
    {
     "data": {
      "text/html": [
       "<div>\n",
       "<style scoped>\n",
       "    .dataframe tbody tr th:only-of-type {\n",
       "        vertical-align: middle;\n",
       "    }\n",
       "\n",
       "    .dataframe tbody tr th {\n",
       "        vertical-align: top;\n",
       "    }\n",
       "\n",
       "    .dataframe thead th {\n",
       "        text-align: right;\n",
       "    }\n",
       "</style>\n",
       "<table border=\"1\" class=\"dataframe\">\n",
       "  <thead>\n",
       "    <tr style=\"text-align: right;\">\n",
       "      <th></th>\n",
       "      <th>Country</th>\n",
       "      <th>City</th>\n",
       "      <th>AccentCity</th>\n",
       "      <th>Region</th>\n",
       "      <th>Population</th>\n",
       "      <th>Latitude</th>\n",
       "      <th>Longitude</th>\n",
       "    </tr>\n",
       "  </thead>\n",
       "  <tbody>\n",
       "    <tr>\n",
       "      <th>2532482</th>\n",
       "      <td>us</td>\n",
       "      <td>abanda</td>\n",
       "      <td>Abanda</td>\n",
       "      <td>AL</td>\n",
       "      <td>NaN</td>\n",
       "      <td>33.100833</td>\n",
       "      <td>-85.529722</td>\n",
       "    </tr>\n",
       "    <tr>\n",
       "      <th>2532483</th>\n",
       "      <td>us</td>\n",
       "      <td>abbeville</td>\n",
       "      <td>Abbeville</td>\n",
       "      <td>AL</td>\n",
       "      <td>NaN</td>\n",
       "      <td>31.571667</td>\n",
       "      <td>-85.250556</td>\n",
       "    </tr>\n",
       "    <tr>\n",
       "      <th>2532484</th>\n",
       "      <td>us</td>\n",
       "      <td>abbot springs</td>\n",
       "      <td>Abbot Springs</td>\n",
       "      <td>AL</td>\n",
       "      <td>NaN</td>\n",
       "      <td>33.360833</td>\n",
       "      <td>-86.481667</td>\n",
       "    </tr>\n",
       "    <tr>\n",
       "      <th>2532485</th>\n",
       "      <td>us</td>\n",
       "      <td>abel</td>\n",
       "      <td>Abel</td>\n",
       "      <td>AL</td>\n",
       "      <td>NaN</td>\n",
       "      <td>33.548611</td>\n",
       "      <td>-85.712500</td>\n",
       "    </tr>\n",
       "    <tr>\n",
       "      <th>2532486</th>\n",
       "      <td>us</td>\n",
       "      <td>abercrombie</td>\n",
       "      <td>Abercrombie</td>\n",
       "      <td>AL</td>\n",
       "      <td>NaN</td>\n",
       "      <td>32.848611</td>\n",
       "      <td>-87.165000</td>\n",
       "    </tr>\n",
       "  </tbody>\n",
       "</table>\n",
       "</div>"
      ],
      "text/plain": [
       "        Country           City     AccentCity Region  Population   Latitude  \\\n",
       "2532482      us         abanda         Abanda     AL         NaN  33.100833   \n",
       "2532483      us      abbeville      Abbeville     AL         NaN  31.571667   \n",
       "2532484      us  abbot springs  Abbot Springs     AL         NaN  33.360833   \n",
       "2532485      us           abel           Abel     AL         NaN  33.548611   \n",
       "2532486      us    abercrombie    Abercrombie     AL         NaN  32.848611   \n",
       "\n",
       "         Longitude  \n",
       "2532482 -85.529722  \n",
       "2532483 -85.250556  \n",
       "2532484 -86.481667  \n",
       "2532485 -85.712500  \n",
       "2532486 -87.165000  "
      ]
     },
     "execution_count": 30,
     "metadata": {},
     "output_type": "execute_result"
    }
   ],
   "source": [
    "#us_cities\n",
    "dataset_df.loc[dataset_df['Country'] == 'us' ].head()"
   ]
  },
  {
   "cell_type": "code",
   "execution_count": 116,
   "metadata": {},
   "outputs": [],
   "source": [
    "us = dataset_df.loc[dataset_df['Country'] == 'us' ].copy()"
   ]
  },
  {
   "cell_type": "code",
   "execution_count": 117,
   "metadata": {},
   "outputs": [],
   "source": [
    "uk=  dataset_df.loc[dataset_df['Country'] == 'gb' ].copy()"
   ]
  },
  {
   "cell_type": "code",
   "execution_count": 118,
   "metadata": {},
   "outputs": [
    {
     "data": {
      "text/plain": [
       "56025"
      ]
     },
     "execution_count": 118,
     "metadata": {},
     "output_type": "execute_result"
    }
   ],
   "source": [
    "us.duplicated('City').sum()"
   ]
  },
  {
   "cell_type": "code",
   "execution_count": 119,
   "metadata": {},
   "outputs": [
    {
     "data": {
      "text/plain": [
       "1437"
      ]
     },
     "execution_count": 119,
     "metadata": {},
     "output_type": "execute_result"
    }
   ],
   "source": [
    "uk.duplicated('City').sum()"
   ]
  },
  {
   "cell_type": "code",
   "execution_count": 120,
   "metadata": {},
   "outputs": [
    {
     "data": {
      "text/html": [
       "<div>\n",
       "<style scoped>\n",
       "    .dataframe tbody tr th:only-of-type {\n",
       "        vertical-align: middle;\n",
       "    }\n",
       "\n",
       "    .dataframe tbody tr th {\n",
       "        vertical-align: top;\n",
       "    }\n",
       "\n",
       "    .dataframe thead th {\n",
       "        text-align: right;\n",
       "    }\n",
       "</style>\n",
       "<table border=\"1\" class=\"dataframe\">\n",
       "  <thead>\n",
       "    <tr style=\"text-align: right;\">\n",
       "      <th></th>\n",
       "      <th>Country</th>\n",
       "      <th>City</th>\n",
       "      <th>AccentCity</th>\n",
       "      <th>Region</th>\n",
       "      <th>Population</th>\n",
       "      <th>Latitude</th>\n",
       "      <th>Longitude</th>\n",
       "    </tr>\n",
       "  </thead>\n",
       "  <tbody>\n",
       "    <tr>\n",
       "      <th>2534705</th>\n",
       "      <td>us</td>\n",
       "      <td>london</td>\n",
       "      <td>London</td>\n",
       "      <td>AL</td>\n",
       "      <td>NaN</td>\n",
       "      <td>31.297500</td>\n",
       "      <td>-87.087778</td>\n",
       "    </tr>\n",
       "    <tr>\n",
       "      <th>2541129</th>\n",
       "      <td>us</td>\n",
       "      <td>london</td>\n",
       "      <td>London</td>\n",
       "      <td>AR</td>\n",
       "      <td>NaN</td>\n",
       "      <td>35.328889</td>\n",
       "      <td>-93.252778</td>\n",
       "    </tr>\n",
       "    <tr>\n",
       "      <th>2545390</th>\n",
       "      <td>us</td>\n",
       "      <td>london</td>\n",
       "      <td>London</td>\n",
       "      <td>CA</td>\n",
       "      <td>NaN</td>\n",
       "      <td>36.476111</td>\n",
       "      <td>-119.442222</td>\n",
       "    </tr>\n",
       "    <tr>\n",
       "      <th>2567874</th>\n",
       "      <td>us</td>\n",
       "      <td>london</td>\n",
       "      <td>London</td>\n",
       "      <td>IN</td>\n",
       "      <td>NaN</td>\n",
       "      <td>39.625556</td>\n",
       "      <td>-85.920278</td>\n",
       "    </tr>\n",
       "    <tr>\n",
       "      <th>2575484</th>\n",
       "      <td>us</td>\n",
       "      <td>london</td>\n",
       "      <td>London</td>\n",
       "      <td>KY</td>\n",
       "      <td>NaN</td>\n",
       "      <td>37.128889</td>\n",
       "      <td>-84.083333</td>\n",
       "    </tr>\n",
       "  </tbody>\n",
       "</table>\n",
       "</div>"
      ],
      "text/plain": [
       "        Country    City AccentCity Region  Population   Latitude   Longitude\n",
       "2534705      us  london     London     AL         NaN  31.297500  -87.087778\n",
       "2541129      us  london     London     AR         NaN  35.328889  -93.252778\n",
       "2545390      us  london     London     CA         NaN  36.476111 -119.442222\n",
       "2567874      us  london     London     IN         NaN  39.625556  -85.920278\n",
       "2575484      us  london     London     KY         NaN  37.128889  -84.083333"
      ]
     },
     "execution_count": 120,
     "metadata": {},
     "output_type": "execute_result"
    }
   ],
   "source": [
    "us.loc[us['City'] == 'london' ].head()"
   ]
  },
  {
   "cell_type": "markdown",
   "metadata": {},
   "source": [
    "Since the current task is see if the UK cities are there in US we need to only consider distinct cities in UK. \n",
    "\n",
    "But for US we need to consider all the cities since the same city name could be in more than one region. For example the UK city `London` is there in more than one region in the USA.\n",
    "Hence they are valid for our analysis.\n",
    "\n",
    "So for the UK data we will consider distinct city names"
   ]
  },
  {
   "cell_type": "markdown",
   "metadata": {},
   "source": [
    "For next"
   ]
  },
  {
   "cell_type": "code",
   "execution_count": 123,
   "metadata": {},
   "outputs": [],
   "source": [
    " uk.drop_duplicates(subset='City',inplace=True)"
   ]
  },
  {
   "cell_type": "markdown",
   "metadata": {},
   "source": [
    "**Thoughts before further Analysis**"
   ]
  },
  {
   "cell_type": "markdown",
   "metadata": {},
   "source": [
    "The map of USA with state names looks like the following:"
   ]
  },
  {
   "cell_type": "markdown",
   "metadata": {},
   "source": [
    "![Image of USA with State names](https://upload.wikimedia.org/wikipedia/commons/thumb/a/a5/Map_of_USA_with_state_names.svg/1000px-Map_of_USA_with_state_names.svg.png)"
   ]
  },
  {
   "cell_type": "markdown",
   "metadata": {},
   "source": [
    "To proceed further we need to define which cities fall under east coast or west cost. One way is to use the the latitude longitude data for each city, but that would involve more analysis and data crunching to figure out in coast each city lies. But if we go down that route we might need to consider the non-standard shape of the country as well which would make the analysis harder."
   ]
  },
  {
   "cell_type": "markdown",
   "metadata": {},
   "source": [
    "A easier approach is to use the a more widely recognized definition from wikipedia in which:\n",
    "- East coast of USA implies the coastal states that have shoreline on the Atlantic Oceaan \n",
    "- West coast of USA implies the coastal states that have shoreline on the Pasafic Oceaan "
   ]
  },
  {
   "cell_type": "markdown",
   "metadata": {},
   "source": [
    "**Notes**"
   ]
  },
  {
   "cell_type": "markdown",
   "metadata": {},
   "source": [
    " - **Alaska & Hawaii** was never colonized by the British. and but I will be considering them. The rationale is given [here](#another_cell) with datato support it.\n",
    " - **Fun Fact** : Alaska was [pruchased](https://en.wikipedia.org/wiki/Alaska_Purchase) from Russia by the the then 'United states'. Russia  didn't want to sell it to UK so that UK doesn't get a stronghold there. But both UK & US was approached in hopes of a bidding war. But the then British Prime Minister Lord Palmerston steadfastly rejected the offer, arguing that Canada had enough uncharted wilderness to deal with and that Britain would overstretch its resources in maintaining Alaska. Hence Alaska was purchased by the US for a today equivalent of a little over 100 million dollors\n",
    " \n",
    " - **Pennsylvania**  \n",
    " While Pennsylvania is not directly along the Atlantic shoreline, it borders the tidal portion of the Delaware River, and the city of Philadelphia was a major seaport. Hence we will consider it in our analysis [Read more here](https://en.wikipedia.org/wiki/East_Coast_of_the_United_States#cite_ref-3)\n",
    " \n",
    " - **Fun Fact** : The original [thirteen colonies](https://en.wikipedia.org/wiki/Thirteen_Colonies) of Great Britain in North America all lay along the East Coast. [see citation](https://en.wikipedia.org/wiki/East_Coast_of_the_United_States#cite_ref-3)\n"
   ]
  },
  {
   "cell_type": "markdown",
   "metadata": {},
   "source": [
    "**Fun fact**: According to the infograph from this [article](https://en.wikipedia.org/wiki/European_colonization_of_the_Americas#English_and_(after_1707)_British) we can see that UK never colonized the lower part ie South western US. Check the cool GIF below which indicates the same"
   ]
  },
  {
   "cell_type": "markdown",
   "metadata": {},
   "source": [
    "<img src=https://upload.wikimedia.org/wikipedia/commons/4/40/Non-Native-American-Nations-Territorial-Claims-over-NAFTA-countries-1750-2008.gif width=\"500\">"
   ]
  },
  {
   "cell_type": "markdown",
   "metadata": {},
   "source": [
    " **West cost states** are : California, Oregon, Washington, and Alaska. [reference](https://en.wikipedia.org/wiki/West_Coast_of_the_United_States)"
   ]
  },
  {
   "cell_type": "markdown",
   "metadata": {},
   "source": [
    " **East coast** states are :  Maine, New Hampshire, Massachusetts, Rhode Island, Connecticut, New York, New Jersey, Delaware, Maryland, Virginia, North Carolina, South Carolina, Georgia, and Florida. [reference](https://en.wikipedia.org/wiki/East_Coast_of_the_United_States#cite_note-East_Coast_States-1)"
   ]
  },
  {
   "cell_type": "code",
   "execution_count": 131,
   "metadata": {},
   "outputs": [
    {
     "data": {
      "text/plain": [
       "array(['AL', 'AK', 'AS', 'AZ', 'AR', 'CA', 'CO', 'CT', 'DE', 'DC', 'FL',\n",
       "       'GA', 'GU', 'HI', 'ID', 'IL', 'IN', 'IA', 'KS', 'KY', 'LA', 'ME',\n",
       "       'MH', 'MD', 'MA', 'MI', 'FM', 'MN', 'MS', 'MO', 'MT', 'NE', 'NV',\n",
       "       'NH', 'NJ', 'NM', 'NY', 'NC', 'ND', 'MP', 'OH', 'OK', 'OR', 'PW',\n",
       "       'PA', 'PR', 'RI', 'SC', 'SD', 'TN', 'TX', 'UT', 'VT', 'VI', 'VA',\n",
       "       'WA', 'WV', 'WI', 'WY'], dtype=object)"
      ]
     },
     "execution_count": 131,
     "metadata": {},
     "output_type": "execute_result"
    }
   ],
   "source": [
    "us['Region'].unique()"
   ]
  },
  {
   "cell_type": "markdown",
   "metadata": {},
   "source": [
    "so the abbreviations in [ANSI](https://en.wikipedia.org/wiki/List_of_U.S._state_abbreviations) 2 letter format"
   ]
  },
  {
   "cell_type": "markdown",
   "metadata": {},
   "source": [
    "lets make lists for easy handling"
   ]
  },
  {
   "cell_type": "code",
   "execution_count": 317,
   "metadata": {},
   "outputs": [],
   "source": [
    "west_coast_state_list = ['CA','WA','OR']#'AK','HI']\n",
    "east_coast_state_list = ['ME', 'NH', 'MA', 'RI', 'CT', 'NY', 'PA', 'NJ',\n",
    "                        'DE', 'MD', 'VA', 'NC','SC', 'GA', 'FL']"
   ]
  },
  {
   "cell_type": "code",
   "execution_count": 318,
   "metadata": {},
   "outputs": [],
   "source": [
    "us_west_coast_df = us[us['Region'].isin(west_coast_state_list)].copy()\n",
    "us_east_coast_df = us[us['Region'].isin(east_coast_state_list)].copy()"
   ]
  },
  {
   "cell_type": "markdown",
   "metadata": {},
   "source": [
    "lets see what the data looks like"
   ]
  },
  {
   "cell_type": "code",
   "execution_count": 319,
   "metadata": {},
   "outputs": [
    {
     "data": {
      "text/html": [
       "<div>\n",
       "<style scoped>\n",
       "    .dataframe tbody tr th:only-of-type {\n",
       "        vertical-align: middle;\n",
       "    }\n",
       "\n",
       "    .dataframe tbody tr th {\n",
       "        vertical-align: top;\n",
       "    }\n",
       "\n",
       "    .dataframe thead th {\n",
       "        text-align: right;\n",
       "    }\n",
       "</style>\n",
       "<table border=\"1\" class=\"dataframe\">\n",
       "  <thead>\n",
       "    <tr style=\"text-align: right;\">\n",
       "      <th></th>\n",
       "      <th>Country</th>\n",
       "      <th>City</th>\n",
       "      <th>AccentCity</th>\n",
       "      <th>Region</th>\n",
       "      <th>Population</th>\n",
       "      <th>Latitude</th>\n",
       "      <th>Longitude</th>\n",
       "    </tr>\n",
       "  </thead>\n",
       "  <tbody>\n",
       "    <tr>\n",
       "      <th>2630710</th>\n",
       "      <td>us</td>\n",
       "      <td>reston</td>\n",
       "      <td>Reston</td>\n",
       "      <td>OR</td>\n",
       "      <td>NaN</td>\n",
       "      <td>43.130278</td>\n",
       "      <td>-123.618889</td>\n",
       "    </tr>\n",
       "    <tr>\n",
       "      <th>2630411</th>\n",
       "      <td>us</td>\n",
       "      <td>lena</td>\n",
       "      <td>Lena</td>\n",
       "      <td>OR</td>\n",
       "      <td>NaN</td>\n",
       "      <td>45.400000</td>\n",
       "      <td>-119.280833</td>\n",
       "    </tr>\n",
       "  </tbody>\n",
       "</table>\n",
       "</div>"
      ],
      "text/plain": [
       "        Country    City AccentCity Region  Population   Latitude   Longitude\n",
       "2630710      us  reston     Reston     OR         NaN  43.130278 -123.618889\n",
       "2630411      us    lena       Lena     OR         NaN  45.400000 -119.280833"
      ]
     },
     "execution_count": 319,
     "metadata": {},
     "output_type": "execute_result"
    }
   ],
   "source": [
    "us_west_coast_df.sample(2)"
   ]
  },
  {
   "cell_type": "code",
   "execution_count": 320,
   "metadata": {},
   "outputs": [
    {
     "data": {
      "text/html": [
       "<div>\n",
       "<style scoped>\n",
       "    .dataframe tbody tr th:only-of-type {\n",
       "        vertical-align: middle;\n",
       "    }\n",
       "\n",
       "    .dataframe tbody tr th {\n",
       "        vertical-align: top;\n",
       "    }\n",
       "\n",
       "    .dataframe thead th {\n",
       "        text-align: right;\n",
       "    }\n",
       "</style>\n",
       "<table border=\"1\" class=\"dataframe\">\n",
       "  <thead>\n",
       "    <tr style=\"text-align: right;\">\n",
       "      <th></th>\n",
       "      <th>Country</th>\n",
       "      <th>City</th>\n",
       "      <th>AccentCity</th>\n",
       "      <th>Region</th>\n",
       "      <th>Population</th>\n",
       "      <th>Latitude</th>\n",
       "      <th>Longitude</th>\n",
       "    </tr>\n",
       "  </thead>\n",
       "  <tbody>\n",
       "    <tr>\n",
       "      <th>2549966</th>\n",
       "      <td>us</td>\n",
       "      <td>lake view</td>\n",
       "      <td>Lake View</td>\n",
       "      <td>CT</td>\n",
       "      <td>NaN</td>\n",
       "      <td>41.356111</td>\n",
       "      <td>-72.511944</td>\n",
       "    </tr>\n",
       "    <tr>\n",
       "      <th>2635791</th>\n",
       "      <td>us</td>\n",
       "      <td>mason</td>\n",
       "      <td>Mason</td>\n",
       "      <td>PA</td>\n",
       "      <td>NaN</td>\n",
       "      <td>41.473611</td>\n",
       "      <td>-79.847222</td>\n",
       "    </tr>\n",
       "  </tbody>\n",
       "</table>\n",
       "</div>"
      ],
      "text/plain": [
       "        Country       City AccentCity Region  Population   Latitude  Longitude\n",
       "2549966      us  lake view  Lake View     CT         NaN  41.356111 -72.511944\n",
       "2635791      us      mason      Mason     PA         NaN  41.473611 -79.847222"
      ]
     },
     "execution_count": 320,
     "metadata": {},
     "output_type": "execute_result"
    }
   ],
   "source": [
    "us_east_coast_df.sample(2)"
   ]
  },
  {
   "cell_type": "markdown",
   "metadata": {},
   "source": [
    "Nothing out of the ordinary till now.\n",
    "But for our analysis only the cities names are enough.\n",
    "So lets take the city names alone into a new dataframe"
   ]
  },
  {
   "cell_type": "code",
   "execution_count": 200,
   "metadata": {},
   "outputs": [],
   "source": [
    "us_west_coast_cities = us_west_coast_df.filter(['City'],axis=1)"
   ]
  },
  {
   "cell_type": "code",
   "execution_count": 201,
   "metadata": {},
   "outputs": [],
   "source": [
    "us_east_coast_cities = us_east_coast_df.filter(['City'],axis=1)"
   ]
  },
  {
   "cell_type": "markdown",
   "metadata": {},
   "source": [
    "Now since we have the relevant US cities, we can easily update their counts in our UK dataframe"
   ]
  },
  {
   "cell_type": "code",
   "execution_count": 234,
   "metadata": {},
   "outputs": [],
   "source": [
    "uk['east_coast_name_count'] = uk['City'].map(us_east_coast_cities['City'].value_counts())\n",
    "uk['west_coast_name_count'] = uk['City'].map(us_west_coast_cities['City'].value_counts())"
   ]
  },
  {
   "cell_type": "code",
   "execution_count": 209,
   "metadata": {},
   "outputs": [
    {
     "data": {
      "text/html": [
       "<div>\n",
       "<style scoped>\n",
       "    .dataframe tbody tr th:only-of-type {\n",
       "        vertical-align: middle;\n",
       "    }\n",
       "\n",
       "    .dataframe tbody tr th {\n",
       "        vertical-align: top;\n",
       "    }\n",
       "\n",
       "    .dataframe thead th {\n",
       "        text-align: right;\n",
       "    }\n",
       "</style>\n",
       "<table border=\"1\" class=\"dataframe\">\n",
       "  <thead>\n",
       "    <tr style=\"text-align: right;\">\n",
       "      <th></th>\n",
       "      <th>Country</th>\n",
       "      <th>City</th>\n",
       "      <th>AccentCity</th>\n",
       "      <th>Region</th>\n",
       "      <th>Population</th>\n",
       "      <th>Latitude</th>\n",
       "      <th>Longitude</th>\n",
       "      <th>east_coast_name_count</th>\n",
       "      <th>west_coast_name_count</th>\n",
       "    </tr>\n",
       "  </thead>\n",
       "  <tbody>\n",
       "    <tr>\n",
       "      <th>839147</th>\n",
       "      <td>gb</td>\n",
       "      <td>redberth</td>\n",
       "      <td>Redberth</td>\n",
       "      <td>Y7</td>\n",
       "      <td>NaN</td>\n",
       "      <td>51.702500</td>\n",
       "      <td>-4.775278</td>\n",
       "      <td>NaN</td>\n",
       "      <td>NaN</td>\n",
       "    </tr>\n",
       "    <tr>\n",
       "      <th>831169</th>\n",
       "      <td>gb</td>\n",
       "      <td>diddington</td>\n",
       "      <td>Diddington</td>\n",
       "      <td>C3</td>\n",
       "      <td>NaN</td>\n",
       "      <td>52.266667</td>\n",
       "      <td>-0.250000</td>\n",
       "      <td>NaN</td>\n",
       "      <td>NaN</td>\n",
       "    </tr>\n",
       "    <tr>\n",
       "      <th>826756</th>\n",
       "      <td>gb</td>\n",
       "      <td>abergorloch</td>\n",
       "      <td>Abergorloch</td>\n",
       "      <td>X7</td>\n",
       "      <td>NaN</td>\n",
       "      <td>51.983056</td>\n",
       "      <td>-4.060278</td>\n",
       "      <td>NaN</td>\n",
       "      <td>NaN</td>\n",
       "    </tr>\n",
       "    <tr>\n",
       "      <th>838353</th>\n",
       "      <td>gb</td>\n",
       "      <td>parkside</td>\n",
       "      <td>Parkside</td>\n",
       "      <td>C7</td>\n",
       "      <td>NaN</td>\n",
       "      <td>52.400000</td>\n",
       "      <td>-1.500000</td>\n",
       "      <td>5.0</td>\n",
       "      <td>NaN</td>\n",
       "    </tr>\n",
       "    <tr>\n",
       "      <th>830603</th>\n",
       "      <td>gb</td>\n",
       "      <td>crambe</td>\n",
       "      <td>Crambe</td>\n",
       "      <td>Q5</td>\n",
       "      <td>NaN</td>\n",
       "      <td>54.066667</td>\n",
       "      <td>-0.866667</td>\n",
       "      <td>NaN</td>\n",
       "      <td>NaN</td>\n",
       "    </tr>\n",
       "  </tbody>\n",
       "</table>\n",
       "</div>"
      ],
      "text/plain": [
       "       Country         City   AccentCity Region  Population   Latitude  \\\n",
       "839147      gb     redberth     Redberth     Y7         NaN  51.702500   \n",
       "831169      gb   diddington   Diddington     C3         NaN  52.266667   \n",
       "826756      gb  abergorloch  Abergorloch     X7         NaN  51.983056   \n",
       "838353      gb     parkside     Parkside     C7         NaN  52.400000   \n",
       "830603      gb       crambe       Crambe     Q5         NaN  54.066667   \n",
       "\n",
       "        Longitude  east_coast_name_count  west_coast_name_count  \n",
       "839147  -4.775278                    NaN                    NaN  \n",
       "831169  -0.250000                    NaN                    NaN  \n",
       "826756  -4.060278                    NaN                    NaN  \n",
       "838353  -1.500000                    5.0                    NaN  \n",
       "830603  -0.866667                    NaN                    NaN  "
      ]
     },
     "execution_count": 209,
     "metadata": {},
     "output_type": "execute_result"
    }
   ],
   "source": [
    "uk.sample(5)"
   ]
  },
  {
   "cell_type": "markdown",
   "metadata": {},
   "source": [
    "so as expected there are few UK city names which aren't present in US lets fill those with 0 instead of `NaN`"
   ]
  },
  {
   "cell_type": "code",
   "execution_count": 235,
   "metadata": {},
   "outputs": [],
   "source": [
    "uk.fillna({'east_coast_name_count':0, 'west_coast_name_count':0},inplace=True)"
   ]
  },
  {
   "cell_type": "code",
   "execution_count": 220,
   "metadata": {},
   "outputs": [
    {
     "data": {
      "text/html": [
       "<div>\n",
       "<style scoped>\n",
       "    .dataframe tbody tr th:only-of-type {\n",
       "        vertical-align: middle;\n",
       "    }\n",
       "\n",
       "    .dataframe tbody tr th {\n",
       "        vertical-align: top;\n",
       "    }\n",
       "\n",
       "    .dataframe thead th {\n",
       "        text-align: right;\n",
       "    }\n",
       "</style>\n",
       "<table border=\"1\" class=\"dataframe\">\n",
       "  <thead>\n",
       "    <tr style=\"text-align: right;\">\n",
       "      <th></th>\n",
       "      <th>Country</th>\n",
       "      <th>City</th>\n",
       "      <th>AccentCity</th>\n",
       "      <th>Region</th>\n",
       "      <th>Population</th>\n",
       "      <th>Latitude</th>\n",
       "      <th>Longitude</th>\n",
       "      <th>east_coast_name_count</th>\n",
       "      <th>west_coast_name_count</th>\n",
       "    </tr>\n",
       "  </thead>\n",
       "  <tbody>\n",
       "    <tr>\n",
       "      <th>840116</th>\n",
       "      <td>gb</td>\n",
       "      <td>shefford</td>\n",
       "      <td>Shefford</td>\n",
       "      <td>A5</td>\n",
       "      <td>NaN</td>\n",
       "      <td>51.466667</td>\n",
       "      <td>-1.450000</td>\n",
       "      <td>0.0</td>\n",
       "      <td>0.0</td>\n",
       "    </tr>\n",
       "    <tr>\n",
       "      <th>840030</th>\n",
       "      <td>gb</td>\n",
       "      <td>selma</td>\n",
       "      <td>Selma</td>\n",
       "      <td>T8</td>\n",
       "      <td>NaN</td>\n",
       "      <td>56.483333</td>\n",
       "      <td>-5.400000</td>\n",
       "      <td>3.0</td>\n",
       "      <td>2.0</td>\n",
       "    </tr>\n",
       "    <tr>\n",
       "      <th>828310</th>\n",
       "      <td>gb</td>\n",
       "      <td>bishopton</td>\n",
       "      <td>Bishopton</td>\n",
       "      <td>W2</td>\n",
       "      <td>5029.0</td>\n",
       "      <td>55.900000</td>\n",
       "      <td>-4.500000</td>\n",
       "      <td>0.0</td>\n",
       "      <td>0.0</td>\n",
       "    </tr>\n",
       "    <tr>\n",
       "      <th>839264</th>\n",
       "      <td>gb</td>\n",
       "      <td>rickinghall</td>\n",
       "      <td>Rickinghall</td>\n",
       "      <td>N5</td>\n",
       "      <td>NaN</td>\n",
       "      <td>52.333333</td>\n",
       "      <td>1.000000</td>\n",
       "      <td>0.0</td>\n",
       "      <td>0.0</td>\n",
       "    </tr>\n",
       "    <tr>\n",
       "      <th>836195</th>\n",
       "      <td>gb</td>\n",
       "      <td>llansteffan</td>\n",
       "      <td>Llansteffan</td>\n",
       "      <td>X7</td>\n",
       "      <td>NaN</td>\n",
       "      <td>51.772222</td>\n",
       "      <td>-4.391389</td>\n",
       "      <td>0.0</td>\n",
       "      <td>0.0</td>\n",
       "    </tr>\n",
       "  </tbody>\n",
       "</table>\n",
       "</div>"
      ],
      "text/plain": [
       "       Country         City   AccentCity Region  Population   Latitude  \\\n",
       "840116      gb     shefford     Shefford     A5         NaN  51.466667   \n",
       "840030      gb        selma        Selma     T8         NaN  56.483333   \n",
       "828310      gb    bishopton    Bishopton     W2      5029.0  55.900000   \n",
       "839264      gb  rickinghall  Rickinghall     N5         NaN  52.333333   \n",
       "836195      gb  llansteffan  Llansteffan     X7         NaN  51.772222   \n",
       "\n",
       "        Longitude  east_coast_name_count  west_coast_name_count  \n",
       "840116  -1.450000                    0.0                    0.0  \n",
       "840030  -5.400000                    3.0                    2.0  \n",
       "828310  -4.500000                    0.0                    0.0  \n",
       "839264   1.000000                    0.0                    0.0  \n",
       "836195  -4.391389                    0.0                    0.0  "
      ]
     },
     "execution_count": 220,
     "metadata": {},
     "output_type": "execute_result"
    }
   ],
   "source": [
    "uk.sample(5)"
   ]
  },
  {
   "cell_type": "code",
   "execution_count": 315,
   "metadata": {},
   "outputs": [
    {
     "data": {
      "text/html": [
       "<div>\n",
       "<style scoped>\n",
       "    .dataframe tbody tr th:only-of-type {\n",
       "        vertical-align: middle;\n",
       "    }\n",
       "\n",
       "    .dataframe tbody tr th {\n",
       "        vertical-align: top;\n",
       "    }\n",
       "\n",
       "    .dataframe thead th {\n",
       "        text-align: right;\n",
       "    }\n",
       "</style>\n",
       "<table border=\"1\" class=\"dataframe\">\n",
       "  <thead>\n",
       "    <tr style=\"text-align: right;\">\n",
       "      <th></th>\n",
       "      <th>Country</th>\n",
       "      <th>City</th>\n",
       "      <th>AccentCity</th>\n",
       "      <th>Region</th>\n",
       "      <th>Population</th>\n",
       "      <th>Latitude</th>\n",
       "      <th>Longitude</th>\n",
       "    </tr>\n",
       "  </thead>\n",
       "  <tbody>\n",
       "    <tr>\n",
       "      <th>841502</th>\n",
       "      <td>gb</td>\n",
       "      <td>thompson</td>\n",
       "      <td>Thompson</td>\n",
       "      <td>I9</td>\n",
       "      <td>NaN</td>\n",
       "      <td>52.533333</td>\n",
       "      <td>0.833333</td>\n",
       "    </tr>\n",
       "  </tbody>\n",
       "</table>\n",
       "</div>"
      ],
      "text/plain": [
       "       Country      City AccentCity Region  Population   Latitude  Longitude\n",
       "841502      gb  thompson   Thompson     I9         NaN  52.533333   0.833333"
      ]
     },
     "execution_count": 315,
     "metadata": {},
     "output_type": "execute_result"
    }
   ],
   "source": [
    "uk.loc[uk['City']=='thompson']#.sample(5)"
   ]
  },
  {
   "cell_type": "markdown",
   "metadata": {},
   "source": [
    "Sanity check - see if the city `selma` (here value of 7) is actually there in our orginal list"
   ]
  },
  {
   "cell_type": "code",
   "execution_count": 316,
   "metadata": {},
   "outputs": [
    {
     "data": {
      "text/html": [
       "<div>\n",
       "<style scoped>\n",
       "    .dataframe tbody tr th:only-of-type {\n",
       "        vertical-align: middle;\n",
       "    }\n",
       "\n",
       "    .dataframe tbody tr th {\n",
       "        vertical-align: top;\n",
       "    }\n",
       "\n",
       "    .dataframe thead th {\n",
       "        text-align: right;\n",
       "    }\n",
       "</style>\n",
       "<table border=\"1\" class=\"dataframe\">\n",
       "  <thead>\n",
       "    <tr style=\"text-align: right;\">\n",
       "      <th></th>\n",
       "      <th>City</th>\n",
       "    </tr>\n",
       "  </thead>\n",
       "  <tbody>\n",
       "    <tr>\n",
       "      <th>2550395</th>\n",
       "      <td>thompson</td>\n",
       "    </tr>\n",
       "    <tr>\n",
       "      <th>2551906</th>\n",
       "      <td>thompson</td>\n",
       "    </tr>\n",
       "    <tr>\n",
       "      <th>2555073</th>\n",
       "      <td>thompson</td>\n",
       "    </tr>\n",
       "    <tr>\n",
       "      <th>2582172</th>\n",
       "      <td>thompson</td>\n",
       "    </tr>\n",
       "    <tr>\n",
       "      <th>2588823</th>\n",
       "      <td>thompson</td>\n",
       "    </tr>\n",
       "    <tr>\n",
       "      <th>2616980</th>\n",
       "      <td>thompson</td>\n",
       "    </tr>\n",
       "    <tr>\n",
       "      <th>2638610</th>\n",
       "      <td>thompson</td>\n",
       "    </tr>\n",
       "  </tbody>\n",
       "</table>\n",
       "</div>"
      ],
      "text/plain": [
       "             City\n",
       "2550395  thompson\n",
       "2551906  thompson\n",
       "2555073  thompson\n",
       "2582172  thompson\n",
       "2588823  thompson\n",
       "2616980  thompson\n",
       "2638610  thompson"
      ]
     },
     "execution_count": 316,
     "metadata": {},
     "output_type": "execute_result"
    }
   ],
   "source": [
    "\n",
    "us_east_coast_cities[us_east_coast_cities['City']=='thompson']"
   ]
  },
  {
   "cell_type": "markdown",
   "metadata": {},
   "source": [
    "<a id='another_cell'></a>\n",
    "**Thoughts on including Hawaii & Alaska**"
   ]
  },
  {
   "cell_type": "markdown",
   "metadata": {},
   "source": [
    "Case in point [Wales, AK, USA](https://en.wikipedia.org/wiki/Wales,_Alaska). Even though this Wales was never colonized by the UK, its name is derived from the Wales in UK. This happend around 1890s. OK so there could be names in cities in Hawaii or Alaska that could have some very distant relation to the English names"
   ]
  },
  {
   "cell_type": "markdown",
   "metadata": {},
   "source": [
    "While I drilled through the below data I found that there were only 23 such english names. Also most were from Alaska. Regardless this wouldn't statiscally change the result by a huge factor. since total number of cities for AK & HI = 1145\n",
    "So its debatable on the fact that how granular you would want to analyze"
   ]
  },
  {
   "cell_type": "code",
   "execution_count": null,
   "metadata": {},
   "outputs": [],
   "source": [
    "us_west_coast_AK_HI = us[us['Region'].isin(['AK','HI'])].copy()\n",
    "us_west_coast_AK_HI_cities = us_west_coast_AK_HI.filter(['City'],axis=1)\n",
    "uk_temp = uk.copy()\n",
    "uk_temp['west_coast_name_count'] = uk_temp['City'].map(us_west_coast_AK_HI_cities['City']\\\n",
    "                                                       .value_counts())\\\n",
    "                                                       .fillna(0)\n",
    "test = us[us['Region'].isin(['AK','HI'])].copy()\n"
   ]
  },
  {
   "cell_type": "code",
   "execution_count": 279,
   "metadata": {},
   "outputs": [
    {
     "data": {
      "text/html": [
       "<div>\n",
       "<style scoped>\n",
       "    .dataframe tbody tr th:only-of-type {\n",
       "        vertical-align: middle;\n",
       "    }\n",
       "\n",
       "    .dataframe tbody tr th {\n",
       "        vertical-align: top;\n",
       "    }\n",
       "\n",
       "    .dataframe thead th {\n",
       "        text-align: right;\n",
       "    }\n",
       "</style>\n",
       "<table border=\"1\" class=\"dataframe\">\n",
       "  <thead>\n",
       "    <tr style=\"text-align: right;\">\n",
       "      <th></th>\n",
       "      <th>Country</th>\n",
       "      <th>City</th>\n",
       "      <th>AccentCity</th>\n",
       "      <th>Region</th>\n",
       "      <th>Population</th>\n",
       "      <th>Latitude</th>\n",
       "      <th>Longitude</th>\n",
       "    </tr>\n",
       "  </thead>\n",
       "  <tbody>\n",
       "    <tr>\n",
       "      <th>2537388</th>\n",
       "      <td>us</td>\n",
       "      <td>wales</td>\n",
       "      <td>Wales</td>\n",
       "      <td>AK</td>\n",
       "      <td>NaN</td>\n",
       "      <td>65.609167</td>\n",
       "      <td>-168.0875</td>\n",
       "    </tr>\n",
       "  </tbody>\n",
       "</table>\n",
       "</div>"
      ],
      "text/plain": [
       "        Country   City AccentCity Region  Population   Latitude  Longitude\n",
       "2537388      us  wales      Wales     AK         NaN  65.609167  -168.0875"
      ]
     },
     "execution_count": 279,
     "metadata": {},
     "output_type": "execute_result"
    }
   ],
   "source": [
    "test.loc[test['City'] =='wales' ]"
   ]
  },
  {
   "cell_type": "code",
   "execution_count": 280,
   "metadata": {},
   "outputs": [
    {
     "data": {
      "text/html": [
       "<div>\n",
       "<style scoped>\n",
       "    .dataframe tbody tr th:only-of-type {\n",
       "        vertical-align: middle;\n",
       "    }\n",
       "\n",
       "    .dataframe tbody tr th {\n",
       "        vertical-align: top;\n",
       "    }\n",
       "\n",
       "    .dataframe thead th {\n",
       "        text-align: right;\n",
       "    }\n",
       "</style>\n",
       "<table border=\"1\" class=\"dataframe\">\n",
       "  <thead>\n",
       "    <tr style=\"text-align: right;\">\n",
       "      <th></th>\n",
       "      <th>Country</th>\n",
       "      <th>City</th>\n",
       "      <th>AccentCity</th>\n",
       "      <th>Region</th>\n",
       "      <th>Population</th>\n",
       "      <th>Latitude</th>\n",
       "      <th>Longitude</th>\n",
       "      <th>west_coast_name_count</th>\n",
       "    </tr>\n",
       "  </thead>\n",
       "  <tbody>\n",
       "    <tr>\n",
       "      <th>842273</th>\n",
       "      <td>gb</td>\n",
       "      <td>wales</td>\n",
       "      <td>Wales</td>\n",
       "      <td>C9</td>\n",
       "      <td>NaN</td>\n",
       "      <td>53.333333</td>\n",
       "      <td>-1.283333</td>\n",
       "      <td>1.0</td>\n",
       "    </tr>\n",
       "  </tbody>\n",
       "</table>\n",
       "</div>"
      ],
      "text/plain": [
       "       Country   City AccentCity Region  Population   Latitude  Longitude  \\\n",
       "842273      gb  wales      Wales     C9         NaN  53.333333  -1.283333   \n",
       "\n",
       "        west_coast_name_count  \n",
       "842273                    1.0  "
      ]
     },
     "execution_count": 280,
     "metadata": {},
     "output_type": "execute_result"
    }
   ],
   "source": [
    "uk_temp.loc[( uk_temp['City'] =='wales') ]"
   ]
  },
  {
   "cell_type": "code",
   "execution_count": 307,
   "metadata": {},
   "outputs": [
    {
     "data": {
      "text/html": [
       "<div>\n",
       "<style scoped>\n",
       "    .dataframe tbody tr th:only-of-type {\n",
       "        vertical-align: middle;\n",
       "    }\n",
       "\n",
       "    .dataframe tbody tr th {\n",
       "        vertical-align: top;\n",
       "    }\n",
       "\n",
       "    .dataframe thead th {\n",
       "        text-align: right;\n",
       "    }\n",
       "</style>\n",
       "<table border=\"1\" class=\"dataframe\">\n",
       "  <thead>\n",
       "    <tr style=\"text-align: right;\">\n",
       "      <th></th>\n",
       "      <th>Country</th>\n",
       "      <th>City</th>\n",
       "      <th>AccentCity</th>\n",
       "      <th>Region</th>\n",
       "      <th>Population</th>\n",
       "      <th>Latitude</th>\n",
       "      <th>Longitude</th>\n",
       "    </tr>\n",
       "  </thead>\n",
       "  <tbody>\n",
       "    <tr>\n",
       "      <th>2537394</th>\n",
       "      <td>us</td>\n",
       "      <td>westgate</td>\n",
       "      <td>Westgate</td>\n",
       "      <td>AK</td>\n",
       "      <td>NaN</td>\n",
       "      <td>64.837222</td>\n",
       "      <td>-147.795833</td>\n",
       "    </tr>\n",
       "  </tbody>\n",
       "</table>\n",
       "</div>"
      ],
      "text/plain": [
       "        Country      City AccentCity Region  Population   Latitude   Longitude\n",
       "2537394      us  westgate   Westgate     AK         NaN  64.837222 -147.795833"
      ]
     },
     "execution_count": 307,
     "metadata": {},
     "output_type": "execute_result"
    }
   ],
   "source": [
    "test.loc[test['City'] =='westgate' ]"
   ]
  },
  {
   "cell_type": "code",
   "execution_count": 312,
   "metadata": {},
   "outputs": [
    {
     "data": {
      "text/plain": [
       "(23, 8)"
      ]
     },
     "execution_count": 312,
     "metadata": {},
     "output_type": "execute_result"
    }
   ],
   "source": [
    "uk_temp.loc[( uk_temp['west_coast_name_count'] > 0) ].shape"
   ]
  }
 ],
 "metadata": {
  "kernelspec": {
   "display_name": "Python 3",
   "language": "python",
   "name": "python3"
  },
  "language_info": {
   "codemirror_mode": {
    "name": "ipython",
    "version": 3
   },
   "file_extension": ".py",
   "mimetype": "text/x-python",
   "name": "python",
   "nbconvert_exporter": "python",
   "pygments_lexer": "ipython3",
   "version": "3.7.2"
  }
 },
 "nbformat": 4,
 "nbformat_minor": 2
}
