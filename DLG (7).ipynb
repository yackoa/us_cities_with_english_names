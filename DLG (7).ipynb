{
 "cells": [
  {
   "cell_type": "markdown",
   "metadata": {},
   "source": [
    "# The Hypothesis"
   ]
  },
  {
   "cell_type": "markdown",
   "metadata": {},
   "source": [
    "`“Since the UK was one of the main countries that colonised the USA, and the UK is on the east side of the USA there are more towns/cities with UK names on the east coast of the US rather than the west coast”`"
   ]
  },
  {
   "cell_type": "markdown",
   "metadata": {},
   "source": [
    "## Data"
   ]
  },
  {
   "cell_type": "markdown",
   "metadata": {},
   "source": [
    "https://github.com/apache/commons-csv/raw/master/src/test/resources/perf/worldcitiespop.txt.gz"
   ]
  },
  {
   "cell_type": "markdown",
   "metadata": {},
   "source": [
    "lets get the imports out of the way"
   ]
  },
  {
   "cell_type": "code",
   "execution_count": 1,
   "metadata": {},
   "outputs": [],
   "source": [
    "import pandas as pd"
   ]
  },
  {
   "cell_type": "code",
   "execution_count": 2,
   "metadata": {},
   "outputs": [],
   "source": [
    "dataset = \"/home/stormfield/scratch/DLG/worldcitiespop.txt\""
   ]
  },
  {
   "cell_type": "code",
   "execution_count": 3,
   "metadata": {},
   "outputs": [],
   "source": [
    "dataset_df = pd.read_csv(dataset,encoding = \"ISO-8859-1\", low_memory=False)"
   ]
  },
  {
   "cell_type": "markdown",
   "metadata": {},
   "source": [
    "the file wasn't UTF-8 encoded. The is 'ISO-8859-1' encoded (LATIN-1)"
   ]
  },
  {
   "cell_type": "markdown",
   "metadata": {},
   "source": [
    "(I was about seek clarification regarding th encoding, but on closer examination of the actual use of the dataset in the apache commons, bench marking test class in github, it seems the file was infact 'ISO-8859-1'. Please refer [this](https://github.com/apache/commons-csv/blob/master/src/test/java/org/apache/commons/csv/CSVBenchmark.java) java file at line numbers 64 & 66)"
   ]
  },
  {
   "cell_type": "markdown",
   "metadata": {},
   "source": [
    "## Data Exploration"
   ]
  },
  {
   "cell_type": "markdown",
   "metadata": {},
   "source": [
    "Lets see what the data looks like"
   ]
  },
  {
   "cell_type": "code",
   "execution_count": 4,
   "metadata": {},
   "outputs": [
    {
     "data": {
      "text/html": [
       "<div>\n",
       "<style scoped>\n",
       "    .dataframe tbody tr th:only-of-type {\n",
       "        vertical-align: middle;\n",
       "    }\n",
       "\n",
       "    .dataframe tbody tr th {\n",
       "        vertical-align: top;\n",
       "    }\n",
       "\n",
       "    .dataframe thead th {\n",
       "        text-align: right;\n",
       "    }\n",
       "</style>\n",
       "<table border=\"1\" class=\"dataframe\">\n",
       "  <thead>\n",
       "    <tr style=\"text-align: right;\">\n",
       "      <th></th>\n",
       "      <th>Country</th>\n",
       "      <th>City</th>\n",
       "      <th>AccentCity</th>\n",
       "      <th>Region</th>\n",
       "      <th>Population</th>\n",
       "      <th>Latitude</th>\n",
       "      <th>Longitude</th>\n",
       "    </tr>\n",
       "  </thead>\n",
       "  <tbody>\n",
       "    <tr>\n",
       "      <th>0</th>\n",
       "      <td>ad</td>\n",
       "      <td>aixas</td>\n",
       "      <td>Aixàs</td>\n",
       "      <td>06</td>\n",
       "      <td>NaN</td>\n",
       "      <td>42.483333</td>\n",
       "      <td>1.466667</td>\n",
       "    </tr>\n",
       "    <tr>\n",
       "      <th>1</th>\n",
       "      <td>ad</td>\n",
       "      <td>aixirivali</td>\n",
       "      <td>Aixirivali</td>\n",
       "      <td>06</td>\n",
       "      <td>NaN</td>\n",
       "      <td>42.466667</td>\n",
       "      <td>1.500000</td>\n",
       "    </tr>\n",
       "    <tr>\n",
       "      <th>2</th>\n",
       "      <td>ad</td>\n",
       "      <td>aixirivall</td>\n",
       "      <td>Aixirivall</td>\n",
       "      <td>06</td>\n",
       "      <td>NaN</td>\n",
       "      <td>42.466667</td>\n",
       "      <td>1.500000</td>\n",
       "    </tr>\n",
       "    <tr>\n",
       "      <th>3</th>\n",
       "      <td>ad</td>\n",
       "      <td>aixirvall</td>\n",
       "      <td>Aixirvall</td>\n",
       "      <td>06</td>\n",
       "      <td>NaN</td>\n",
       "      <td>42.466667</td>\n",
       "      <td>1.500000</td>\n",
       "    </tr>\n",
       "    <tr>\n",
       "      <th>4</th>\n",
       "      <td>ad</td>\n",
       "      <td>aixovall</td>\n",
       "      <td>Aixovall</td>\n",
       "      <td>06</td>\n",
       "      <td>NaN</td>\n",
       "      <td>42.466667</td>\n",
       "      <td>1.483333</td>\n",
       "    </tr>\n",
       "  </tbody>\n",
       "</table>\n",
       "</div>"
      ],
      "text/plain": [
       "  Country        City  AccentCity Region  Population   Latitude  Longitude\n",
       "0      ad       aixas       Aixàs     06         NaN  42.483333   1.466667\n",
       "1      ad  aixirivali  Aixirivali     06         NaN  42.466667   1.500000\n",
       "2      ad  aixirivall  Aixirivall     06         NaN  42.466667   1.500000\n",
       "3      ad   aixirvall   Aixirvall     06         NaN  42.466667   1.500000\n",
       "4      ad    aixovall    Aixovall     06         NaN  42.466667   1.483333"
      ]
     },
     "execution_count": 4,
     "metadata": {},
     "output_type": "execute_result"
    }
   ],
   "source": [
    "dataset_df.head()"
   ]
  },
  {
   "cell_type": "markdown",
   "metadata": {},
   "source": [
    "Lets verify the assumption of country names ie GB for United Kingdom & US for United States of America. [source](https://en.wikipedia.org/wiki/List_of_ISO_3166_country_codes)"
   ]
  },
  {
   "cell_type": "code",
   "execution_count": 5,
   "metadata": {},
   "outputs": [
    {
     "data": {
      "text/plain": [
       "True"
      ]
     },
     "execution_count": 5,
     "metadata": {},
     "output_type": "execute_result"
    }
   ],
   "source": [
    "# united kingdom\n",
    "'gb' in dataset_df['Country'].unique()"
   ]
  },
  {
   "cell_type": "code",
   "execution_count": 6,
   "metadata": {},
   "outputs": [
    {
     "data": {
      "text/plain": [
       "True"
      ]
     },
     "execution_count": 6,
     "metadata": {},
     "output_type": "execute_result"
    }
   ],
   "source": [
    "# USA\n",
    "'us' in dataset_df['Country'].unique()"
   ]
  },
  {
   "cell_type": "markdown",
   "metadata": {},
   "source": [
    "lets see what each of the data looks like"
   ]
  },
  {
   "cell_type": "code",
   "execution_count": 7,
   "metadata": {},
   "outputs": [
    {
     "data": {
      "text/html": [
       "<div>\n",
       "<style scoped>\n",
       "    .dataframe tbody tr th:only-of-type {\n",
       "        vertical-align: middle;\n",
       "    }\n",
       "\n",
       "    .dataframe tbody tr th {\n",
       "        vertical-align: top;\n",
       "    }\n",
       "\n",
       "    .dataframe thead th {\n",
       "        text-align: right;\n",
       "    }\n",
       "</style>\n",
       "<table border=\"1\" class=\"dataframe\">\n",
       "  <thead>\n",
       "    <tr style=\"text-align: right;\">\n",
       "      <th></th>\n",
       "      <th>Country</th>\n",
       "      <th>City</th>\n",
       "      <th>AccentCity</th>\n",
       "      <th>Region</th>\n",
       "      <th>Population</th>\n",
       "      <th>Latitude</th>\n",
       "      <th>Longitude</th>\n",
       "    </tr>\n",
       "  </thead>\n",
       "  <tbody>\n",
       "    <tr>\n",
       "      <th>826690</th>\n",
       "      <td>gb</td>\n",
       "      <td>abberley</td>\n",
       "      <td>Abberley</td>\n",
       "      <td>Q4</td>\n",
       "      <td>NaN</td>\n",
       "      <td>52.300000</td>\n",
       "      <td>-2.366667</td>\n",
       "    </tr>\n",
       "    <tr>\n",
       "      <th>826691</th>\n",
       "      <td>gb</td>\n",
       "      <td>abberton</td>\n",
       "      <td>Abberton</td>\n",
       "      <td>F2</td>\n",
       "      <td>NaN</td>\n",
       "      <td>51.833333</td>\n",
       "      <td>0.916667</td>\n",
       "    </tr>\n",
       "    <tr>\n",
       "      <th>826692</th>\n",
       "      <td>gb</td>\n",
       "      <td>abberton</td>\n",
       "      <td>Abberton</td>\n",
       "      <td>F7</td>\n",
       "      <td>NaN</td>\n",
       "      <td>52.183333</td>\n",
       "      <td>-2.016667</td>\n",
       "    </tr>\n",
       "    <tr>\n",
       "      <th>826693</th>\n",
       "      <td>gb</td>\n",
       "      <td>abbess roding</td>\n",
       "      <td>Abbess Roding</td>\n",
       "      <td>E4</td>\n",
       "      <td>NaN</td>\n",
       "      <td>51.783333</td>\n",
       "      <td>0.266667</td>\n",
       "    </tr>\n",
       "    <tr>\n",
       "      <th>826694</th>\n",
       "      <td>gb</td>\n",
       "      <td>abbey-cwmhir</td>\n",
       "      <td>Abbey-Cwmhir</td>\n",
       "      <td>Y8</td>\n",
       "      <td>NaN</td>\n",
       "      <td>52.333333</td>\n",
       "      <td>-3.400000</td>\n",
       "    </tr>\n",
       "  </tbody>\n",
       "</table>\n",
       "</div>"
      ],
      "text/plain": [
       "       Country           City     AccentCity Region  Population   Latitude  \\\n",
       "826690      gb       abberley       Abberley     Q4         NaN  52.300000   \n",
       "826691      gb       abberton       Abberton     F2         NaN  51.833333   \n",
       "826692      gb       abberton       Abberton     F7         NaN  52.183333   \n",
       "826693      gb  abbess roding  Abbess Roding     E4         NaN  51.783333   \n",
       "826694      gb   abbey-cwmhir   Abbey-Cwmhir     Y8         NaN  52.333333   \n",
       "\n",
       "        Longitude  \n",
       "826690  -2.366667  \n",
       "826691   0.916667  \n",
       "826692  -2.016667  \n",
       "826693   0.266667  \n",
       "826694  -3.400000  "
      ]
     },
     "execution_count": 7,
     "metadata": {},
     "output_type": "execute_result"
    }
   ],
   "source": [
    "#uk_cities  \n",
    "dataset_df.loc[dataset_df['Country'] == 'gb' ].head()"
   ]
  },
  {
   "cell_type": "code",
   "execution_count": 8,
   "metadata": {},
   "outputs": [
    {
     "data": {
      "text/html": [
       "<div>\n",
       "<style scoped>\n",
       "    .dataframe tbody tr th:only-of-type {\n",
       "        vertical-align: middle;\n",
       "    }\n",
       "\n",
       "    .dataframe tbody tr th {\n",
       "        vertical-align: top;\n",
       "    }\n",
       "\n",
       "    .dataframe thead th {\n",
       "        text-align: right;\n",
       "    }\n",
       "</style>\n",
       "<table border=\"1\" class=\"dataframe\">\n",
       "  <thead>\n",
       "    <tr style=\"text-align: right;\">\n",
       "      <th></th>\n",
       "      <th>Country</th>\n",
       "      <th>City</th>\n",
       "      <th>AccentCity</th>\n",
       "      <th>Region</th>\n",
       "      <th>Population</th>\n",
       "      <th>Latitude</th>\n",
       "      <th>Longitude</th>\n",
       "    </tr>\n",
       "  </thead>\n",
       "  <tbody>\n",
       "    <tr>\n",
       "      <th>2532482</th>\n",
       "      <td>us</td>\n",
       "      <td>abanda</td>\n",
       "      <td>Abanda</td>\n",
       "      <td>AL</td>\n",
       "      <td>NaN</td>\n",
       "      <td>33.100833</td>\n",
       "      <td>-85.529722</td>\n",
       "    </tr>\n",
       "    <tr>\n",
       "      <th>2532483</th>\n",
       "      <td>us</td>\n",
       "      <td>abbeville</td>\n",
       "      <td>Abbeville</td>\n",
       "      <td>AL</td>\n",
       "      <td>NaN</td>\n",
       "      <td>31.571667</td>\n",
       "      <td>-85.250556</td>\n",
       "    </tr>\n",
       "    <tr>\n",
       "      <th>2532484</th>\n",
       "      <td>us</td>\n",
       "      <td>abbot springs</td>\n",
       "      <td>Abbot Springs</td>\n",
       "      <td>AL</td>\n",
       "      <td>NaN</td>\n",
       "      <td>33.360833</td>\n",
       "      <td>-86.481667</td>\n",
       "    </tr>\n",
       "    <tr>\n",
       "      <th>2532485</th>\n",
       "      <td>us</td>\n",
       "      <td>abel</td>\n",
       "      <td>Abel</td>\n",
       "      <td>AL</td>\n",
       "      <td>NaN</td>\n",
       "      <td>33.548611</td>\n",
       "      <td>-85.712500</td>\n",
       "    </tr>\n",
       "    <tr>\n",
       "      <th>2532486</th>\n",
       "      <td>us</td>\n",
       "      <td>abercrombie</td>\n",
       "      <td>Abercrombie</td>\n",
       "      <td>AL</td>\n",
       "      <td>NaN</td>\n",
       "      <td>32.848611</td>\n",
       "      <td>-87.165000</td>\n",
       "    </tr>\n",
       "  </tbody>\n",
       "</table>\n",
       "</div>"
      ],
      "text/plain": [
       "        Country           City     AccentCity Region  Population   Latitude  \\\n",
       "2532482      us         abanda         Abanda     AL         NaN  33.100833   \n",
       "2532483      us      abbeville      Abbeville     AL         NaN  31.571667   \n",
       "2532484      us  abbot springs  Abbot Springs     AL         NaN  33.360833   \n",
       "2532485      us           abel           Abel     AL         NaN  33.548611   \n",
       "2532486      us    abercrombie    Abercrombie     AL         NaN  32.848611   \n",
       "\n",
       "         Longitude  \n",
       "2532482 -85.529722  \n",
       "2532483 -85.250556  \n",
       "2532484 -86.481667  \n",
       "2532485 -85.712500  \n",
       "2532486 -87.165000  "
      ]
     },
     "execution_count": 8,
     "metadata": {},
     "output_type": "execute_result"
    }
   ],
   "source": [
    "#us_cities\n",
    "dataset_df.loc[dataset_df['Country'] == 'us' ].head()"
   ]
  },
  {
   "cell_type": "markdown",
   "metadata": {},
   "source": [
    "Lets create two seperate data frames to store details for UK & US"
   ]
  },
  {
   "cell_type": "code",
   "execution_count": 9,
   "metadata": {},
   "outputs": [],
   "source": [
    "us = dataset_df.loc[dataset_df['Country'] == 'us' ].copy()"
   ]
  },
  {
   "cell_type": "code",
   "execution_count": 10,
   "metadata": {},
   "outputs": [],
   "source": [
    "uk=  dataset_df.loc[dataset_df['Country'] == 'gb' ].copy()"
   ]
  },
  {
   "cell_type": "code",
   "execution_count": 11,
   "metadata": {},
   "outputs": [
    {
     "data": {
      "text/plain": [
       "56025"
      ]
     },
     "execution_count": 11,
     "metadata": {},
     "output_type": "execute_result"
    }
   ],
   "source": [
    "us.duplicated('City').sum()"
   ]
  },
  {
   "cell_type": "code",
   "execution_count": 12,
   "metadata": {},
   "outputs": [
    {
     "data": {
      "text/plain": [
       "1437"
      ]
     },
     "execution_count": 12,
     "metadata": {},
     "output_type": "execute_result"
    }
   ],
   "source": [
    "uk.duplicated('City').sum()"
   ]
  },
  {
   "cell_type": "code",
   "execution_count": 13,
   "metadata": {},
   "outputs": [
    {
     "data": {
      "text/html": [
       "<div>\n",
       "<style scoped>\n",
       "    .dataframe tbody tr th:only-of-type {\n",
       "        vertical-align: middle;\n",
       "    }\n",
       "\n",
       "    .dataframe tbody tr th {\n",
       "        vertical-align: top;\n",
       "    }\n",
       "\n",
       "    .dataframe thead th {\n",
       "        text-align: right;\n",
       "    }\n",
       "</style>\n",
       "<table border=\"1\" class=\"dataframe\">\n",
       "  <thead>\n",
       "    <tr style=\"text-align: right;\">\n",
       "      <th></th>\n",
       "      <th>Country</th>\n",
       "      <th>City</th>\n",
       "      <th>AccentCity</th>\n",
       "      <th>Region</th>\n",
       "      <th>Population</th>\n",
       "      <th>Latitude</th>\n",
       "      <th>Longitude</th>\n",
       "    </tr>\n",
       "  </thead>\n",
       "  <tbody>\n",
       "    <tr>\n",
       "      <th>2534705</th>\n",
       "      <td>us</td>\n",
       "      <td>london</td>\n",
       "      <td>London</td>\n",
       "      <td>AL</td>\n",
       "      <td>NaN</td>\n",
       "      <td>31.297500</td>\n",
       "      <td>-87.087778</td>\n",
       "    </tr>\n",
       "    <tr>\n",
       "      <th>2541129</th>\n",
       "      <td>us</td>\n",
       "      <td>london</td>\n",
       "      <td>London</td>\n",
       "      <td>AR</td>\n",
       "      <td>NaN</td>\n",
       "      <td>35.328889</td>\n",
       "      <td>-93.252778</td>\n",
       "    </tr>\n",
       "    <tr>\n",
       "      <th>2545390</th>\n",
       "      <td>us</td>\n",
       "      <td>london</td>\n",
       "      <td>London</td>\n",
       "      <td>CA</td>\n",
       "      <td>NaN</td>\n",
       "      <td>36.476111</td>\n",
       "      <td>-119.442222</td>\n",
       "    </tr>\n",
       "    <tr>\n",
       "      <th>2567874</th>\n",
       "      <td>us</td>\n",
       "      <td>london</td>\n",
       "      <td>London</td>\n",
       "      <td>IN</td>\n",
       "      <td>NaN</td>\n",
       "      <td>39.625556</td>\n",
       "      <td>-85.920278</td>\n",
       "    </tr>\n",
       "    <tr>\n",
       "      <th>2575484</th>\n",
       "      <td>us</td>\n",
       "      <td>london</td>\n",
       "      <td>London</td>\n",
       "      <td>KY</td>\n",
       "      <td>NaN</td>\n",
       "      <td>37.128889</td>\n",
       "      <td>-84.083333</td>\n",
       "    </tr>\n",
       "  </tbody>\n",
       "</table>\n",
       "</div>"
      ],
      "text/plain": [
       "        Country    City AccentCity Region  Population   Latitude   Longitude\n",
       "2534705      us  london     London     AL         NaN  31.297500  -87.087778\n",
       "2541129      us  london     London     AR         NaN  35.328889  -93.252778\n",
       "2545390      us  london     London     CA         NaN  36.476111 -119.442222\n",
       "2567874      us  london     London     IN         NaN  39.625556  -85.920278\n",
       "2575484      us  london     London     KY         NaN  37.128889  -84.083333"
      ]
     },
     "execution_count": 13,
     "metadata": {},
     "output_type": "execute_result"
    }
   ],
   "source": [
    "us.loc[us['City'] == 'london' ].head()"
   ]
  },
  {
   "cell_type": "markdown",
   "metadata": {},
   "source": [
    "Since the current task is see if the UK cities are there in US we need to only consider distinct cities in UK. \n",
    "\n",
    "But for US we need to consider all the cities since the same city name could be in more than one region. For example the UK city `London` is there in more than one region in the USA.\n",
    "Hence they are valid for our analysis.\n",
    "\n",
    "So for the UK data we will consider distinct city names, hence we drop the duplicates"
   ]
  },
  {
   "cell_type": "code",
   "execution_count": 14,
   "metadata": {},
   "outputs": [],
   "source": [
    " uk.drop_duplicates(subset='City',inplace=True)"
   ]
  },
  {
   "cell_type": "markdown",
   "metadata": {},
   "source": [
    "**Thoughts before further Analysis**"
   ]
  },
  {
   "cell_type": "markdown",
   "metadata": {},
   "source": [
    "The map of USA with state names looks like the following:"
   ]
  },
  {
   "cell_type": "markdown",
   "metadata": {},
   "source": [
    "![Image of USA with State names](https://upload.wikimedia.org/wikipedia/commons/thumb/a/a5/Map_of_USA_with_state_names.svg/1000px-Map_of_USA_with_state_names.svg.png)"
   ]
  },
  {
   "cell_type": "markdown",
   "metadata": {},
   "source": [
    "To proceed further we need to define which cities fall under east coast or west cost. One way is to use the the latitude longitude data for each city, but that would involve more analysis and data crunching to figure out in coast each city lies. But if we go down that route we might need to consider the non-standard shape of the country as well which would make the analysis harder."
   ]
  },
  {
   "cell_type": "markdown",
   "metadata": {},
   "source": [
    "A easier approach is to use the a more widely recognized definition from wikipedia in which:\n",
    "- East coast of USA implies the coastal states that have shoreline on the Atlantic Oceaan \n",
    "- West coast of USA implies the coastal states that have shoreline on the Pasafic Oceaan "
   ]
  },
  {
   "cell_type": "markdown",
   "metadata": {},
   "source": [
    "**Notes**"
   ]
  },
  {
   "cell_type": "markdown",
   "metadata": {},
   "source": [
    " - **Alaska & Hawaii** was never colonized by the British. so I will not be considering them in the current analysis. The rationale is given [here](#another_cell) with data to support it. Please note that this is a debatable topic\n",
    " - **Fun Fact** : Alaska was [pruchased](https://en.wikipedia.org/wiki/Alaska_Purchase) from Russia by the the then 'United states'. Russia  didn't want to sell it to UK so that UK doesn't get a stronghold there. But both UK & US was approached in hopes of a bidding war. But the then British Prime Minister Lord Palmerston steadfastly rejected the offer, arguing that Canada had enough uncharted wilderness to deal with and that Britain would overstretch its resources in maintaining Alaska. Hence Alaska was purchased by the US for a today equivalent of a little over 100 million dollors\n",
    " \n",
    " - **Pennsylvania**  \n",
    " While Pennsylvania is not directly along the Atlantic shoreline, it borders the tidal portion of the Delaware River, and the city of Philadelphia was a major seaport. Hence we will consider it in our analysis [Read more here](https://en.wikipedia.org/wiki/East_Coast_of_the_United_States#cite_ref-3)\n",
    " \n",
    " - **Fun Fact** : The original [thirteen colonies](https://en.wikipedia.org/wiki/Thirteen_Colonies) of Great Britain in North America all lay along the East Coast. [see citation](https://en.wikipedia.org/wiki/East_Coast_of_the_United_States#cite_ref-3)\n"
   ]
  },
  {
   "cell_type": "markdown",
   "metadata": {},
   "source": [
    "**Fun fact**: According to the infograph from this [article](https://en.wikipedia.org/wiki/European_colonization_of_the_Americas#English_and_(after_1707)_British) we can see that UK never colonized the lower part ie South western US. Check the cool GIF below which indicates the same"
   ]
  },
  {
   "cell_type": "markdown",
   "metadata": {},
   "source": [
    "<img src=https://upload.wikimedia.org/wikipedia/commons/4/40/Non-Native-American-Nations-Territorial-Claims-over-NAFTA-countries-1750-2008.gif width=\"500\">"
   ]
  },
  {
   "cell_type": "markdown",
   "metadata": {},
   "source": [
    " **West cost states** are : California, Oregon, Washington, and Alaska. [reference](https://en.wikipedia.org/wiki/West_Coast_of_the_United_States)"
   ]
  },
  {
   "cell_type": "markdown",
   "metadata": {},
   "source": [
    " **East coast** states are :  Maine, New Hampshire, Massachusetts, Rhode Island, Connecticut, New York, New Jersey, Delaware, Maryland, Virginia, North Carolina, South Carolina, Georgia, and Florida. [reference](https://en.wikipedia.org/wiki/East_Coast_of_the_United_States#cite_note-East_Coast_States-1)"
   ]
  },
  {
   "cell_type": "code",
   "execution_count": 15,
   "metadata": {},
   "outputs": [
    {
     "data": {
      "text/plain": [
       "array(['AL', 'AK', 'AS', 'AZ', 'AR', 'CA', 'CO', 'CT', 'DE', 'DC', 'FL',\n",
       "       'GA', 'GU', 'HI', 'ID', 'IL', 'IN', 'IA', 'KS', 'KY', 'LA', 'ME',\n",
       "       'MH', 'MD', 'MA', 'MI', 'FM', 'MN', 'MS', 'MO', 'MT', 'NE', 'NV',\n",
       "       'NH', 'NJ', 'NM', 'NY', 'NC', 'ND', 'MP', 'OH', 'OK', 'OR', 'PW',\n",
       "       'PA', 'PR', 'RI', 'SC', 'SD', 'TN', 'TX', 'UT', 'VT', 'VI', 'VA',\n",
       "       'WA', 'WV', 'WI', 'WY'], dtype=object)"
      ]
     },
     "execution_count": 15,
     "metadata": {},
     "output_type": "execute_result"
    }
   ],
   "source": [
    "us['Region'].unique()"
   ]
  },
  {
   "cell_type": "markdown",
   "metadata": {},
   "source": [
    "so the abbreviations in [ANSI](https://en.wikipedia.org/wiki/List_of_U.S._state_abbreviations) 2 letter format"
   ]
  },
  {
   "cell_type": "markdown",
   "metadata": {},
   "source": [
    "lets make lists for easy handling"
   ]
  },
  {
   "cell_type": "code",
   "execution_count": 17,
   "metadata": {},
   "outputs": [],
   "source": [
    "west_coast_state_list = ['CA','WA','OR'] #'AK','HI'] # Yes ignoring Alaska & Hawaii \n",
    "                                         # was on purpose see notes below\n",
    "east_coast_state_list = ['ME', 'NH', 'MA', 'RI', 'CT', 'NY', 'PA', 'NJ',\n",
    "                        'DE', 'MD', 'VA', 'NC','SC', 'GA', 'FL']"
   ]
  },
  {
   "cell_type": "code",
   "execution_count": 18,
   "metadata": {},
   "outputs": [],
   "source": [
    "us_west_coast_df = us[us['Region'].isin(west_coast_state_list)].copy()\n",
    "us_east_coast_df = us[us['Region'].isin(east_coast_state_list)].copy()"
   ]
  },
  {
   "cell_type": "markdown",
   "metadata": {},
   "source": [
    "lets see what the data looks like"
   ]
  },
  {
   "cell_type": "markdown",
   "metadata": {},
   "source": [
    "I am going to use [Sample function](https://pandas.pydata.org/pandas-docs/stable/reference/api/pandas.DataFrame.sample.html) to view random samples in our dataframe"
   ]
  },
  {
   "cell_type": "code",
   "execution_count": 19,
   "metadata": {},
   "outputs": [
    {
     "data": {
      "text/html": [
       "<div>\n",
       "<style scoped>\n",
       "    .dataframe tbody tr th:only-of-type {\n",
       "        vertical-align: middle;\n",
       "    }\n",
       "\n",
       "    .dataframe tbody tr th {\n",
       "        vertical-align: top;\n",
       "    }\n",
       "\n",
       "    .dataframe thead th {\n",
       "        text-align: right;\n",
       "    }\n",
       "</style>\n",
       "<table border=\"1\" class=\"dataframe\">\n",
       "  <thead>\n",
       "    <tr style=\"text-align: right;\">\n",
       "      <th></th>\n",
       "      <th>Country</th>\n",
       "      <th>City</th>\n",
       "      <th>AccentCity</th>\n",
       "      <th>Region</th>\n",
       "      <th>Population</th>\n",
       "      <th>Latitude</th>\n",
       "      <th>Longitude</th>\n",
       "    </tr>\n",
       "  </thead>\n",
       "  <tbody>\n",
       "    <tr>\n",
       "      <th>2546303</th>\n",
       "      <td>us</td>\n",
       "      <td>paularino</td>\n",
       "      <td>Paularino</td>\n",
       "      <td>CA</td>\n",
       "      <td>NaN</td>\n",
       "      <td>33.681389</td>\n",
       "      <td>-117.877778</td>\n",
       "    </tr>\n",
       "    <tr>\n",
       "      <th>2546956</th>\n",
       "      <td>us</td>\n",
       "      <td>santa ynez</td>\n",
       "      <td>Santa Ynez</td>\n",
       "      <td>CA</td>\n",
       "      <td>NaN</td>\n",
       "      <td>34.614444</td>\n",
       "      <td>-120.078889</td>\n",
       "    </tr>\n",
       "  </tbody>\n",
       "</table>\n",
       "</div>"
      ],
      "text/plain": [
       "        Country        City  AccentCity Region  Population   Latitude  \\\n",
       "2546303      us   paularino   Paularino     CA         NaN  33.681389   \n",
       "2546956      us  santa ynez  Santa Ynez     CA         NaN  34.614444   \n",
       "\n",
       "          Longitude  \n",
       "2546303 -117.877778  \n",
       "2546956 -120.078889  "
      ]
     },
     "execution_count": 19,
     "metadata": {},
     "output_type": "execute_result"
    }
   ],
   "source": [
    "us_west_coast_df.sample(2)"
   ]
  },
  {
   "cell_type": "code",
   "execution_count": 20,
   "metadata": {},
   "outputs": [
    {
     "data": {
      "text/html": [
       "<div>\n",
       "<style scoped>\n",
       "    .dataframe tbody tr th:only-of-type {\n",
       "        vertical-align: middle;\n",
       "    }\n",
       "\n",
       "    .dataframe tbody tr th {\n",
       "        vertical-align: top;\n",
       "    }\n",
       "\n",
       "    .dataframe thead th {\n",
       "        text-align: right;\n",
       "    }\n",
       "</style>\n",
       "<table border=\"1\" class=\"dataframe\">\n",
       "  <thead>\n",
       "    <tr style=\"text-align: right;\">\n",
       "      <th></th>\n",
       "      <th>Country</th>\n",
       "      <th>City</th>\n",
       "      <th>AccentCity</th>\n",
       "      <th>Region</th>\n",
       "      <th>Population</th>\n",
       "      <th>Latitude</th>\n",
       "      <th>Longitude</th>\n",
       "    </tr>\n",
       "  </thead>\n",
       "  <tbody>\n",
       "    <tr>\n",
       "      <th>2613934</th>\n",
       "      <td>us</td>\n",
       "      <td>greenfield park</td>\n",
       "      <td>Greenfield Park</td>\n",
       "      <td>NY</td>\n",
       "      <td>NaN</td>\n",
       "      <td>41.725833</td>\n",
       "      <td>-74.486111</td>\n",
       "    </tr>\n",
       "    <tr>\n",
       "      <th>2617935</th>\n",
       "      <td>us</td>\n",
       "      <td>bear poplar</td>\n",
       "      <td>Bear Poplar</td>\n",
       "      <td>NC</td>\n",
       "      <td>NaN</td>\n",
       "      <td>35.675833</td>\n",
       "      <td>-80.693611</td>\n",
       "    </tr>\n",
       "  </tbody>\n",
       "</table>\n",
       "</div>"
      ],
      "text/plain": [
       "        Country             City       AccentCity Region  Population  \\\n",
       "2613934      us  greenfield park  Greenfield Park     NY         NaN   \n",
       "2617935      us      bear poplar      Bear Poplar     NC         NaN   \n",
       "\n",
       "          Latitude  Longitude  \n",
       "2613934  41.725833 -74.486111  \n",
       "2617935  35.675833 -80.693611  "
      ]
     },
     "execution_count": 20,
     "metadata": {},
     "output_type": "execute_result"
    }
   ],
   "source": [
    "us_east_coast_df.sample(2)"
   ]
  },
  {
   "cell_type": "markdown",
   "metadata": {},
   "source": [
    "Nothing out of the ordinary till now.\n",
    "But for our analysis only the cities names are enough.\n",
    "So lets take the city names alone into a new dataframe"
   ]
  },
  {
   "cell_type": "code",
   "execution_count": 21,
   "metadata": {},
   "outputs": [],
   "source": [
    "us_west_coast_cities = us_west_coast_df.filter(['City'],axis=1)"
   ]
  },
  {
   "cell_type": "code",
   "execution_count": 22,
   "metadata": {},
   "outputs": [],
   "source": [
    "us_east_coast_cities = us_east_coast_df.filter(['City'],axis=1)"
   ]
  },
  {
   "cell_type": "code",
   "execution_count": 65,
   "metadata": {},
   "outputs": [
    {
     "data": {
      "text/plain": [
       "15446"
      ]
     },
     "execution_count": 65,
     "metadata": {},
     "output_type": "execute_result"
    }
   ],
   "source": [
    "english_city_names = uk['City'].tolist()\n",
    "len(english_city_names)"
   ]
  },
  {
   "cell_type": "markdown",
   "metadata": {},
   "source": [
    "lets get a list of US cities in East & West coast that have english names"
   ]
  },
  {
   "cell_type": "markdown",
   "metadata": {},
   "source": [
    "lets find out all the US coastal cities with English names"
   ]
  },
  {
   "cell_type": "code",
   "execution_count": 81,
   "metadata": {},
   "outputs": [],
   "source": [
    "us_west_coast_english_name_cities = us_west_coast_df[us_west_coast_df['City'].isin(english_city_names)].copy()"
   ]
  },
  {
   "cell_type": "code",
   "execution_count": 83,
   "metadata": {},
   "outputs": [],
   "source": [
    "us_east_coast_english_name_cities = us_east_coast_df[us_east_coast_df['City'].isin(english_city_names)].copy()"
   ]
  },
  {
   "cell_type": "markdown",
   "metadata": {},
   "source": [
    "Lets combine them to a single dataframe"
   ]
  },
  {
   "cell_type": "code",
   "execution_count": 91,
   "metadata": {},
   "outputs": [],
   "source": [
    "us_costal_cities_english_names = us_west_coast_english_name_cities.append(us_east_coast_english_name_cities, ignore_index=True)"
   ]
  },
  {
   "cell_type": "markdown",
   "metadata": {},
   "source": [
    "we can use this data frame later for visualization"
   ]
  },
  {
   "cell_type": "code",
   "execution_count": 96,
   "metadata": {},
   "outputs": [
    {
     "data": {
      "text/html": [
       "<div>\n",
       "<style scoped>\n",
       "    .dataframe tbody tr th:only-of-type {\n",
       "        vertical-align: middle;\n",
       "    }\n",
       "\n",
       "    .dataframe tbody tr th {\n",
       "        vertical-align: top;\n",
       "    }\n",
       "\n",
       "    .dataframe thead th {\n",
       "        text-align: right;\n",
       "    }\n",
       "</style>\n",
       "<table border=\"1\" class=\"dataframe\">\n",
       "  <thead>\n",
       "    <tr style=\"text-align: right;\">\n",
       "      <th></th>\n",
       "      <th>Country</th>\n",
       "      <th>City</th>\n",
       "      <th>AccentCity</th>\n",
       "      <th>Region</th>\n",
       "      <th>Population</th>\n",
       "      <th>Latitude</th>\n",
       "      <th>Longitude</th>\n",
       "    </tr>\n",
       "  </thead>\n",
       "  <tbody>\n",
       "    <tr>\n",
       "      <th>2963</th>\n",
       "      <td>us</td>\n",
       "      <td>selkirk</td>\n",
       "      <td>Selkirk</td>\n",
       "      <td>PA</td>\n",
       "      <td>NaN</td>\n",
       "      <td>41.687222</td>\n",
       "      <td>-79.580556</td>\n",
       "    </tr>\n",
       "    <tr>\n",
       "      <th>46</th>\n",
       "      <td>us</td>\n",
       "      <td>coniston</td>\n",
       "      <td>Coniston</td>\n",
       "      <td>CA</td>\n",
       "      <td>NaN</td>\n",
       "      <td>38.415000</td>\n",
       "      <td>-121.559167</td>\n",
       "    </tr>\n",
       "    <tr>\n",
       "      <th>2473</th>\n",
       "      <td>us</td>\n",
       "      <td>middletown</td>\n",
       "      <td>Middletown</td>\n",
       "      <td>NC</td>\n",
       "      <td>NaN</td>\n",
       "      <td>35.478056</td>\n",
       "      <td>-76.012500</td>\n",
       "    </tr>\n",
       "    <tr>\n",
       "      <th>1806</th>\n",
       "      <td>us</td>\n",
       "      <td>martin</td>\n",
       "      <td>Martin</td>\n",
       "      <td>NH</td>\n",
       "      <td>NaN</td>\n",
       "      <td>43.043333</td>\n",
       "      <td>-71.454722</td>\n",
       "    </tr>\n",
       "    <tr>\n",
       "      <th>3440</th>\n",
       "      <td>us</td>\n",
       "      <td>grays</td>\n",
       "      <td>Grays</td>\n",
       "      <td>VA</td>\n",
       "      <td>NaN</td>\n",
       "      <td>36.800000</td>\n",
       "      <td>-82.502500</td>\n",
       "    </tr>\n",
       "  </tbody>\n",
       "</table>\n",
       "</div>"
      ],
      "text/plain": [
       "     Country        City  AccentCity Region  Population   Latitude   Longitude\n",
       "2963      us     selkirk     Selkirk     PA         NaN  41.687222  -79.580556\n",
       "46        us    coniston    Coniston     CA         NaN  38.415000 -121.559167\n",
       "2473      us  middletown  Middletown     NC         NaN  35.478056  -76.012500\n",
       "1806      us      martin      Martin     NH         NaN  43.043333  -71.454722\n",
       "3440      us       grays       Grays     VA         NaN  36.800000  -82.502500"
      ]
     },
     "execution_count": 96,
     "metadata": {},
     "output_type": "execute_result"
    }
   ],
   "source": [
    "us_costal_cities_english_names.sample(5)"
   ]
  },
  {
   "cell_type": "markdown",
   "metadata": {},
   "source": [
    "Now since we have the relevant US cities, we can easily update their counts in our UK dataframe"
   ]
  },
  {
   "cell_type": "code",
   "execution_count": 23,
   "metadata": {},
   "outputs": [],
   "source": [
    "uk['east_coast_name_count'] = uk['City'].map(us_east_coast_cities['City'].value_counts())\n",
    "uk['west_coast_name_count'] = uk['City'].map(us_west_coast_cities['City'].value_counts())"
   ]
  },
  {
   "cell_type": "code",
   "execution_count": 24,
   "metadata": {},
   "outputs": [
    {
     "data": {
      "text/html": [
       "<div>\n",
       "<style scoped>\n",
       "    .dataframe tbody tr th:only-of-type {\n",
       "        vertical-align: middle;\n",
       "    }\n",
       "\n",
       "    .dataframe tbody tr th {\n",
       "        vertical-align: top;\n",
       "    }\n",
       "\n",
       "    .dataframe thead th {\n",
       "        text-align: right;\n",
       "    }\n",
       "</style>\n",
       "<table border=\"1\" class=\"dataframe\">\n",
       "  <thead>\n",
       "    <tr style=\"text-align: right;\">\n",
       "      <th></th>\n",
       "      <th>Country</th>\n",
       "      <th>City</th>\n",
       "      <th>AccentCity</th>\n",
       "      <th>Region</th>\n",
       "      <th>Population</th>\n",
       "      <th>Latitude</th>\n",
       "      <th>Longitude</th>\n",
       "      <th>east_coast_name_count</th>\n",
       "      <th>west_coast_name_count</th>\n",
       "    </tr>\n",
       "  </thead>\n",
       "  <tbody>\n",
       "    <tr>\n",
       "      <th>833765</th>\n",
       "      <td>gb</td>\n",
       "      <td>helhoughton</td>\n",
       "      <td>Helhoughton</td>\n",
       "      <td>I9</td>\n",
       "      <td>NaN</td>\n",
       "      <td>52.800000</td>\n",
       "      <td>0.766667</td>\n",
       "      <td>NaN</td>\n",
       "      <td>NaN</td>\n",
       "    </tr>\n",
       "    <tr>\n",
       "      <th>837270</th>\n",
       "      <td>gb</td>\n",
       "      <td>moneyneany</td>\n",
       "      <td>Moneyneany</td>\n",
       "      <td>S6</td>\n",
       "      <td>NaN</td>\n",
       "      <td>54.816667</td>\n",
       "      <td>-6.833333</td>\n",
       "      <td>NaN</td>\n",
       "      <td>NaN</td>\n",
       "    </tr>\n",
       "    <tr>\n",
       "      <th>833401</th>\n",
       "      <td>gb</td>\n",
       "      <td>hallaton</td>\n",
       "      <td>Hallaton</td>\n",
       "      <td>L4</td>\n",
       "      <td>NaN</td>\n",
       "      <td>52.550000</td>\n",
       "      <td>-0.833333</td>\n",
       "      <td>NaN</td>\n",
       "      <td>NaN</td>\n",
       "    </tr>\n",
       "    <tr>\n",
       "      <th>834291</th>\n",
       "      <td>gb</td>\n",
       "      <td>hull</td>\n",
       "      <td>Hull</td>\n",
       "      <td>G6</td>\n",
       "      <td>NaN</td>\n",
       "      <td>53.716667</td>\n",
       "      <td>-0.333333</td>\n",
       "      <td>3.0</td>\n",
       "      <td>NaN</td>\n",
       "    </tr>\n",
       "    <tr>\n",
       "      <th>834577</th>\n",
       "      <td>gb</td>\n",
       "      <td>itteringham</td>\n",
       "      <td>Itteringham</td>\n",
       "      <td>I9</td>\n",
       "      <td>NaN</td>\n",
       "      <td>52.833333</td>\n",
       "      <td>1.183333</td>\n",
       "      <td>NaN</td>\n",
       "      <td>NaN</td>\n",
       "    </tr>\n",
       "  </tbody>\n",
       "</table>\n",
       "</div>"
      ],
      "text/plain": [
       "       Country         City   AccentCity Region  Population   Latitude  \\\n",
       "833765      gb  helhoughton  Helhoughton     I9         NaN  52.800000   \n",
       "837270      gb   moneyneany   Moneyneany     S6         NaN  54.816667   \n",
       "833401      gb     hallaton     Hallaton     L4         NaN  52.550000   \n",
       "834291      gb         hull         Hull     G6         NaN  53.716667   \n",
       "834577      gb  itteringham  Itteringham     I9         NaN  52.833333   \n",
       "\n",
       "        Longitude  east_coast_name_count  west_coast_name_count  \n",
       "833765   0.766667                    NaN                    NaN  \n",
       "837270  -6.833333                    NaN                    NaN  \n",
       "833401  -0.833333                    NaN                    NaN  \n",
       "834291  -0.333333                    3.0                    NaN  \n",
       "834577   1.183333                    NaN                    NaN  "
      ]
     },
     "execution_count": 24,
     "metadata": {},
     "output_type": "execute_result"
    }
   ],
   "source": [
    "uk.sample(5)"
   ]
  },
  {
   "cell_type": "markdown",
   "metadata": {},
   "source": [
    "so as expected there are few UK city names which aren't present in US lets fill those with 0 instead of `NaN`"
   ]
  },
  {
   "cell_type": "code",
   "execution_count": 25,
   "metadata": {},
   "outputs": [],
   "source": [
    "uk.fillna({'east_coast_name_count':0, 'west_coast_name_count':0},inplace=True)"
   ]
  },
  {
   "cell_type": "code",
   "execution_count": 29,
   "metadata": {},
   "outputs": [
    {
     "data": {
      "text/html": [
       "<div>\n",
       "<style scoped>\n",
       "    .dataframe tbody tr th:only-of-type {\n",
       "        vertical-align: middle;\n",
       "    }\n",
       "\n",
       "    .dataframe tbody tr th {\n",
       "        vertical-align: top;\n",
       "    }\n",
       "\n",
       "    .dataframe thead th {\n",
       "        text-align: right;\n",
       "    }\n",
       "</style>\n",
       "<table border=\"1\" class=\"dataframe\">\n",
       "  <thead>\n",
       "    <tr style=\"text-align: right;\">\n",
       "      <th></th>\n",
       "      <th>Country</th>\n",
       "      <th>City</th>\n",
       "      <th>AccentCity</th>\n",
       "      <th>Region</th>\n",
       "      <th>Population</th>\n",
       "      <th>Latitude</th>\n",
       "      <th>Longitude</th>\n",
       "      <th>east_coast_name_count</th>\n",
       "      <th>west_coast_name_count</th>\n",
       "    </tr>\n",
       "  </thead>\n",
       "  <tbody>\n",
       "    <tr>\n",
       "      <th>836506</th>\n",
       "      <td>gb</td>\n",
       "      <td>lower soudley</td>\n",
       "      <td>Lower Soudley</td>\n",
       "      <td>E6</td>\n",
       "      <td>NaN</td>\n",
       "      <td>51.783333</td>\n",
       "      <td>-2.483333</td>\n",
       "      <td>0.0</td>\n",
       "      <td>0.0</td>\n",
       "    </tr>\n",
       "    <tr>\n",
       "      <th>831337</th>\n",
       "      <td>gb</td>\n",
       "      <td>drayton</td>\n",
       "      <td>Drayton</td>\n",
       "      <td>D6</td>\n",
       "      <td>NaN</td>\n",
       "      <td>51.650000</td>\n",
       "      <td>-1.133333</td>\n",
       "      <td>2.0</td>\n",
       "      <td>0.0</td>\n",
       "    </tr>\n",
       "    <tr>\n",
       "      <th>832247</th>\n",
       "      <td>gb</td>\n",
       "      <td>feorlean</td>\n",
       "      <td>Feorlean</td>\n",
       "      <td>T8</td>\n",
       "      <td>NaN</td>\n",
       "      <td>55.966667</td>\n",
       "      <td>-5.183333</td>\n",
       "      <td>0.0</td>\n",
       "      <td>0.0</td>\n",
       "    </tr>\n",
       "    <tr>\n",
       "      <th>842654</th>\n",
       "      <td>gb</td>\n",
       "      <td>westerfield</td>\n",
       "      <td>Westerfield</td>\n",
       "      <td>N5</td>\n",
       "      <td>NaN</td>\n",
       "      <td>52.083333</td>\n",
       "      <td>1.166667</td>\n",
       "      <td>0.0</td>\n",
       "      <td>0.0</td>\n",
       "    </tr>\n",
       "    <tr>\n",
       "      <th>838014</th>\n",
       "      <td>gb</td>\n",
       "      <td>norwood</td>\n",
       "      <td>Norwood</td>\n",
       "      <td>G5</td>\n",
       "      <td>NaN</td>\n",
       "      <td>51.400000</td>\n",
       "      <td>-0.083333</td>\n",
       "      <td>10.0</td>\n",
       "      <td>2.0</td>\n",
       "    </tr>\n",
       "  </tbody>\n",
       "</table>\n",
       "</div>"
      ],
      "text/plain": [
       "       Country           City     AccentCity Region  Population   Latitude  \\\n",
       "836506      gb  lower soudley  Lower Soudley     E6         NaN  51.783333   \n",
       "831337      gb        drayton        Drayton     D6         NaN  51.650000   \n",
       "832247      gb       feorlean       Feorlean     T8         NaN  55.966667   \n",
       "842654      gb    westerfield    Westerfield     N5         NaN  52.083333   \n",
       "838014      gb        norwood        Norwood     G5         NaN  51.400000   \n",
       "\n",
       "        Longitude  east_coast_name_count  west_coast_name_count  \n",
       "836506  -2.483333                    0.0                    0.0  \n",
       "831337  -1.133333                    2.0                    0.0  \n",
       "832247  -5.183333                    0.0                    0.0  \n",
       "842654   1.166667                    0.0                    0.0  \n",
       "838014  -0.083333                   10.0                    2.0  "
      ]
     },
     "execution_count": 29,
     "metadata": {},
     "output_type": "execute_result"
    }
   ],
   "source": [
    "uk.sample(5)"
   ]
  },
  {
   "cell_type": "code",
   "execution_count": 31,
   "metadata": {},
   "outputs": [
    {
     "data": {
      "text/html": [
       "<div>\n",
       "<style scoped>\n",
       "    .dataframe tbody tr th:only-of-type {\n",
       "        vertical-align: middle;\n",
       "    }\n",
       "\n",
       "    .dataframe tbody tr th {\n",
       "        vertical-align: top;\n",
       "    }\n",
       "\n",
       "    .dataframe thead th {\n",
       "        text-align: right;\n",
       "    }\n",
       "</style>\n",
       "<table border=\"1\" class=\"dataframe\">\n",
       "  <thead>\n",
       "    <tr style=\"text-align: right;\">\n",
       "      <th></th>\n",
       "      <th>Country</th>\n",
       "      <th>City</th>\n",
       "      <th>AccentCity</th>\n",
       "      <th>Region</th>\n",
       "      <th>Population</th>\n",
       "      <th>Latitude</th>\n",
       "      <th>Longitude</th>\n",
       "      <th>east_coast_name_count</th>\n",
       "      <th>west_coast_name_count</th>\n",
       "    </tr>\n",
       "  </thead>\n",
       "  <tbody>\n",
       "    <tr>\n",
       "      <th>831337</th>\n",
       "      <td>gb</td>\n",
       "      <td>drayton</td>\n",
       "      <td>Drayton</td>\n",
       "      <td>D6</td>\n",
       "      <td>NaN</td>\n",
       "      <td>51.650000</td>\n",
       "      <td>-1.133333</td>\n",
       "      <td>2.0</td>\n",
       "      <td>0.0</td>\n",
       "    </tr>\n",
       "    <tr>\n",
       "      <th>838014</th>\n",
       "      <td>gb</td>\n",
       "      <td>norwood</td>\n",
       "      <td>Norwood</td>\n",
       "      <td>G5</td>\n",
       "      <td>NaN</td>\n",
       "      <td>51.400000</td>\n",
       "      <td>-0.083333</td>\n",
       "      <td>10.0</td>\n",
       "      <td>2.0</td>\n",
       "    </tr>\n",
       "    <tr>\n",
       "      <th>842654</th>\n",
       "      <td>gb</td>\n",
       "      <td>westerfield</td>\n",
       "      <td>Westerfield</td>\n",
       "      <td>N5</td>\n",
       "      <td>NaN</td>\n",
       "      <td>52.083333</td>\n",
       "      <td>1.166667</td>\n",
       "      <td>0.0</td>\n",
       "      <td>0.0</td>\n",
       "    </tr>\n",
       "  </tbody>\n",
       "</table>\n",
       "</div>"
      ],
      "text/plain": [
       "       Country         City   AccentCity Region  Population   Latitude  \\\n",
       "831337      gb      drayton      Drayton     D6         NaN  51.650000   \n",
       "838014      gb      norwood      Norwood     G5         NaN  51.400000   \n",
       "842654      gb  westerfield  Westerfield     N5         NaN  52.083333   \n",
       "\n",
       "        Longitude  east_coast_name_count  west_coast_name_count  \n",
       "831337  -1.133333                    2.0                    0.0  \n",
       "838014  -0.083333                   10.0                    2.0  \n",
       "842654   1.166667                    0.0                    0.0  "
      ]
     },
     "execution_count": 31,
     "metadata": {},
     "output_type": "execute_result"
    }
   ],
   "source": [
    "#uk.loc[uk['City']=='thompson']#.sample(5)\n",
    "uk.loc[uk['City'].isin(['drayton','norwood','westerfield'])]"
   ]
  },
  {
   "cell_type": "markdown",
   "metadata": {},
   "source": [
    "Sanity check - see if the these cities have corresponding count in the orginal list.\n",
    "\n",
    "ie in the East coast dataframe should have these many occurences:\n",
    "\n",
    "`\n",
    "drayton      =  2\n",
    "norwood      = 10 \n",
    "westerfield  = 0`"
   ]
  },
  {
   "cell_type": "code",
   "execution_count": 34,
   "metadata": {},
   "outputs": [
    {
     "data": {
      "text/html": [
       "<div>\n",
       "<style scoped>\n",
       "    .dataframe tbody tr th:only-of-type {\n",
       "        vertical-align: middle;\n",
       "    }\n",
       "\n",
       "    .dataframe tbody tr th {\n",
       "        vertical-align: top;\n",
       "    }\n",
       "\n",
       "    .dataframe thead th {\n",
       "        text-align: right;\n",
       "    }\n",
       "</style>\n",
       "<table border=\"1\" class=\"dataframe\">\n",
       "  <thead>\n",
       "    <tr style=\"text-align: right;\">\n",
       "      <th></th>\n",
       "      <th>City</th>\n",
       "    </tr>\n",
       "  </thead>\n",
       "  <tbody>\n",
       "    <tr>\n",
       "      <th>2554217</th>\n",
       "      <td>norwood</td>\n",
       "    </tr>\n",
       "    <tr>\n",
       "      <th>2556795</th>\n",
       "      <td>drayton</td>\n",
       "    </tr>\n",
       "    <tr>\n",
       "      <th>2558784</th>\n",
       "      <td>norwood</td>\n",
       "    </tr>\n",
       "    <tr>\n",
       "      <th>2587029</th>\n",
       "      <td>norwood</td>\n",
       "    </tr>\n",
       "    <tr>\n",
       "      <th>2591042</th>\n",
       "      <td>norwood</td>\n",
       "    </tr>\n",
       "    <tr>\n",
       "      <th>2609520</th>\n",
       "      <td>norwood</td>\n",
       "    </tr>\n",
       "    <tr>\n",
       "      <th>2615545</th>\n",
       "      <td>norwood</td>\n",
       "    </tr>\n",
       "    <tr>\n",
       "      <th>2620506</th>\n",
       "      <td>norwood</td>\n",
       "    </tr>\n",
       "    <tr>\n",
       "      <th>2636593</th>\n",
       "      <td>norwood</td>\n",
       "    </tr>\n",
       "    <tr>\n",
       "      <th>2640936</th>\n",
       "      <td>norwood</td>\n",
       "    </tr>\n",
       "    <tr>\n",
       "      <th>2641943</th>\n",
       "      <td>drayton</td>\n",
       "    </tr>\n",
       "    <tr>\n",
       "      <th>2663292</th>\n",
       "      <td>norwood</td>\n",
       "    </tr>\n",
       "  </tbody>\n",
       "</table>\n",
       "</div>"
      ],
      "text/plain": [
       "            City\n",
       "2554217  norwood\n",
       "2556795  drayton\n",
       "2558784  norwood\n",
       "2587029  norwood\n",
       "2591042  norwood\n",
       "2609520  norwood\n",
       "2615545  norwood\n",
       "2620506  norwood\n",
       "2636593  norwood\n",
       "2640936  norwood\n",
       "2641943  drayton\n",
       "2663292  norwood"
      ]
     },
     "execution_count": 34,
     "metadata": {},
     "output_type": "execute_result"
    }
   ],
   "source": [
    "us_east_coast_cities[us_east_coast_cities['City'].isin(['drayton','norwood','westerfield'])]"
   ]
  },
  {
   "cell_type": "markdown",
   "metadata": {},
   "source": [
    "Phew so we are on the right track!!"
   ]
  },
  {
   "cell_type": "markdown",
   "metadata": {},
   "source": [
    "### Analysis of the Data"
   ]
  },
  {
   "cell_type": "markdown",
   "metadata": {},
   "source": [
    "Before we dig further lets try to visualize the data using [scatter plot](http://pandas.pydata.org/pandas-docs/version/0.15.0/visualization.html#scatter-plot) "
   ]
  },
  {
   "cell_type": "code",
   "execution_count": 49,
   "metadata": {},
   "outputs": [],
   "source": [
    "import matplotlib.pyplot as plt"
   ]
  },
  {
   "cell_type": "code",
   "execution_count": 145,
   "metadata": {},
   "outputs": [
    {
     "data": {
      "text/plain": [
       "<matplotlib.axes._subplots.AxesSubplot at 0x7f60c36c0fd0>"
      ]
     },
     "execution_count": 145,
     "metadata": {},
     "output_type": "execute_result"
    },
    {
     "data": {
      "image/png": "[encoded data removed]",
      "text/plain": [
       "<Figure size 864x432 with 1 Axes>"
      ]
     },
     "metadata": {
      "needs_background": "light"
     },
     "output_type": "display_data"
    }
   ],
   "source": [
    "us_costal_cities_english_names.plot(kind='scatter',\n",
    "                                          x='Longitude',\n",
    "                                          y='Latitude',\n",
    "                                          c='DarkGreen',\n",
    "                                          figsize=(12,6),\n",
    "                                          marker=\".\",\n",
    "                                          edgecolors='green')"
   ]
  },
  {
   "cell_type": "markdown",
   "metadata": {},
   "source": [
    "**Inferences**"
   ]
  },
  {
   "cell_type": "markdown",
   "metadata": {},
   "source": [
    "Since the plot was created with US costal cities that have english names, we can derive few inferences from it."
   ]
  },
  {
   "cell_type": "markdown",
   "metadata": {},
   "source": [
    "- There are certainly more cities in the East coast with Enhlish names than in the West coast\n",
    "- The density of the plotted points in the East coast is more than the West. Which means such cities are more closer together in the East.\n",
    "- In the East coast we can easily see lots of English cities plotted along  the shore line itself. This trend is lesser in the west coast.\n",
    "\n",
    "All this further strengthens the proposed hypothesis"
   ]
  },
  {
   "cell_type": "markdown",
   "metadata": {},
   "source": [
    "Lets see how much percentage the US coastal cities with English/UK names actually are there"
   ]
  },
  {
   "cell_type": "markdown",
   "metadata": {},
   "source": [
    "3113.0\n",
    "526.0\n",
    "55327\n",
    "9115"
   ]
  },
  {
   "cell_type": "code",
   "execution_count": 183,
   "metadata": {},
   "outputs": [
    {
     "name": "stdout",
     "output_type": "stream",
     "text": [
      "Number of US East coast cities with English names 3113.0\n",
      "Number of US West coast cities with English names 526.0\n",
      "\n",
      "Totat number of US East coast cities = 55327\n",
      "Totat number of US West coast cities = 9115\n",
      "\n",
      "Percentage of US East coast cities with English Names = 5.63\n",
      "Percentage of US West coast cities with English Names = 5.77\n"
     ]
    }
   ],
   "source": [
    "total_num_east_coast_us_cities = us_east_coast_cities['City'].value_counts().sum()\n",
    "total_num_west_coast_us_cities = us_west_coast_cities['City'].value_counts().sum()\n",
    "\n",
    "east_coast_english_name_cities = uk['east_coast_name_count'].sum()\n",
    "west_coast_english_name_cities = uk['west_coast_name_count'].sum()\n",
    "\n",
    "percentage_east_coast_english_names = (east_coast_english_name_cities/total_num_east_coast_us_cities) * 100\n",
    "percentage_west_coast_english_names = (west_coast_english_name_cities/total_num_west_coast_us_cities) * 100\n",
    "\n",
    "print(\"Number of US East coast cities with English names \" + str(east_coast_english_name_cities))\n",
    "print(\"Number of US West coast cities with English names \" + str(west_coast_english_name_cities))\n",
    "\n",
    "print()\n",
    "print(\"Totat number of US East coast cities = \"+ str(total_num_east_coast_us_cities))\n",
    "print(\"Totat number of US West coast cities = \"+ str(total_num_west_coast_us_cities))\n",
    "print()\n",
    "print(\"Percentage of US East coast cities with English Names = \" + str(round(percentage_east_coast_english_names,2)))\n",
    "print(\"Percentage of US West coast cities with English Names = \" + str(round(percentage_west_coast_english_names,2)))"
   ]
  },
  {
   "cell_type": "markdown",
   "metadata": {},
   "source": [
    "- West coast lead by a difference is 0.14%\n",
    "- But east cost still has more number of cities with English/UK names\n",
    "- This makes sense since the 13 colonies was always along the East coast and west coast was midwest were mostly conquered by other nations"
   ]
  },
  {
   "cell_type": "markdown",
   "metadata": {},
   "source": [
    "## Conlusion"
   ]
  },
  {
   "cell_type": "markdown",
   "metadata": {},
   "source": [
    "* We can see that when we calculated the percentage of the cities with english names in USA the West coast leads by marginal difference\n",
    "\n",
    "* Peronally I wouldn't bank on the difference since we haven't considered all the factors, like influence of other countries or similar sounding names.  So we need more thorugh tests to actually figure out if the difference is valid\n",
    "\n",
    "\n",
    "* So the hypothesis still stands since we have more number of cities with English names in East coast than the West\n",
    "\n"
   ]
  },
  {
   "cell_type": "markdown",
   "metadata": {},
   "source": [
    "<a id='another_cell'></a>\n",
    "**Thoughts on including Hawaii & Alaska**"
   ]
  },
  {
   "cell_type": "markdown",
   "metadata": {},
   "source": [
    "Case in point [Wales, AK, USA](https://en.wikipedia.org/wiki/Wales,_Alaska). Even though this Wales was never colonized by the UK, its name is derived from the Wales in UK. This happend around 1890s. OK so there could be names in cities in Hawaii or Alaska that could have some very distant relation to the English names"
   ]
  },
  {
   "cell_type": "markdown",
   "metadata": {},
   "source": [
    "While I drilled through the below data I found that there were only 23 such english names. Everything were from Alaska. Regardless this wouldn't statiscally change the result by a huge factor (Yes I checked it), since total number of cities for AK & HI = 1145. Since they are in the West coast it affected only the perncentage in the West coast alone, specifically It lowered it to `5.13%`. That brings the difference in percentages to 0.64%\n",
    "\n",
    "Regardless it wasn't enough to refute the hypothesis. I know its debatable, but in reality we need to consider more things rather than direct name based equality comparisons right?"
   ]
  },
  {
   "cell_type": "code",
   "execution_count": 45,
   "metadata": {},
   "outputs": [],
   "source": [
    "us_west_coast_AK_HI = us[us['Region'].isin(['AK','HI'])].copy()\n",
    "us_west_coast_AK_HI_cities = us_west_coast_AK_HI.filter(['City'],axis=1)\n",
    "uk_temp = dataset_df.loc[dataset_df['Country'] == 'gb' ].copy()\n",
    "us_temp = dataset_df.loc[dataset_df['Country'] == 'us' ].copy()\n",
    "uk_temp['west_coast_name_count'] = uk_temp['City'].map(us_west_coast_AK_HI_cities['City']\\\n",
    "                                                       .value_counts())\\\n",
    "                                                       .fillna(0)\n",
    "test = us_temp[us_temp['Region'].isin(['AK','HI'])].copy()\n"
   ]
  },
  {
   "cell_type": "markdown",
   "metadata": {},
   "source": [
    "Yes who knew Wales was also there in the USA"
   ]
  },
  {
   "cell_type": "code",
   "execution_count": 46,
   "metadata": {},
   "outputs": [
    {
     "data": {
      "text/html": [
       "<div>\n",
       "<style scoped>\n",
       "    .dataframe tbody tr th:only-of-type {\n",
       "        vertical-align: middle;\n",
       "    }\n",
       "\n",
       "    .dataframe tbody tr th {\n",
       "        vertical-align: top;\n",
       "    }\n",
       "\n",
       "    .dataframe thead th {\n",
       "        text-align: right;\n",
       "    }\n",
       "</style>\n",
       "<table border=\"1\" class=\"dataframe\">\n",
       "  <thead>\n",
       "    <tr style=\"text-align: right;\">\n",
       "      <th></th>\n",
       "      <th>Country</th>\n",
       "      <th>City</th>\n",
       "      <th>AccentCity</th>\n",
       "      <th>Region</th>\n",
       "      <th>Population</th>\n",
       "      <th>Latitude</th>\n",
       "      <th>Longitude</th>\n",
       "    </tr>\n",
       "  </thead>\n",
       "  <tbody>\n",
       "    <tr>\n",
       "      <th>2537388</th>\n",
       "      <td>us</td>\n",
       "      <td>wales</td>\n",
       "      <td>Wales</td>\n",
       "      <td>AK</td>\n",
       "      <td>NaN</td>\n",
       "      <td>65.609167</td>\n",
       "      <td>-168.0875</td>\n",
       "    </tr>\n",
       "  </tbody>\n",
       "</table>\n",
       "</div>"
      ],
      "text/plain": [
       "        Country   City AccentCity Region  Population   Latitude  Longitude\n",
       "2537388      us  wales      Wales     AK         NaN  65.609167  -168.0875"
      ]
     },
     "execution_count": 46,
     "metadata": {},
     "output_type": "execute_result"
    }
   ],
   "source": [
    "test.loc[test['City'] =='wales' ]"
   ]
  },
  {
   "cell_type": "code",
   "execution_count": 47,
   "metadata": {},
   "outputs": [
    {
     "data": {
      "text/html": [
       "<div>\n",
       "<style scoped>\n",
       "    .dataframe tbody tr th:only-of-type {\n",
       "        vertical-align: middle;\n",
       "    }\n",
       "\n",
       "    .dataframe tbody tr th {\n",
       "        vertical-align: top;\n",
       "    }\n",
       "\n",
       "    .dataframe thead th {\n",
       "        text-align: right;\n",
       "    }\n",
       "</style>\n",
       "<table border=\"1\" class=\"dataframe\">\n",
       "  <thead>\n",
       "    <tr style=\"text-align: right;\">\n",
       "      <th></th>\n",
       "      <th>Country</th>\n",
       "      <th>City</th>\n",
       "      <th>AccentCity</th>\n",
       "      <th>Region</th>\n",
       "      <th>Population</th>\n",
       "      <th>Latitude</th>\n",
       "      <th>Longitude</th>\n",
       "      <th>west_coast_name_count</th>\n",
       "    </tr>\n",
       "  </thead>\n",
       "  <tbody>\n",
       "    <tr>\n",
       "      <th>842273</th>\n",
       "      <td>gb</td>\n",
       "      <td>wales</td>\n",
       "      <td>Wales</td>\n",
       "      <td>C9</td>\n",
       "      <td>NaN</td>\n",
       "      <td>53.333333</td>\n",
       "      <td>-1.283333</td>\n",
       "      <td>1.0</td>\n",
       "    </tr>\n",
       "  </tbody>\n",
       "</table>\n",
       "</div>"
      ],
      "text/plain": [
       "       Country   City AccentCity Region  Population   Latitude  Longitude  \\\n",
       "842273      gb  wales      Wales     C9         NaN  53.333333  -1.283333   \n",
       "\n",
       "        west_coast_name_count  \n",
       "842273                    1.0  "
      ]
     },
     "execution_count": 47,
     "metadata": {},
     "output_type": "execute_result"
    }
   ],
   "source": [
    "uk_temp.loc[( uk_temp['City'] =='wales') ]"
   ]
  },
  {
   "cell_type": "code",
   "execution_count": 48,
   "metadata": {},
   "outputs": [
    {
     "data": {
      "text/plain": [
       "(39, 8)"
      ]
     },
     "execution_count": 48,
     "metadata": {},
     "output_type": "execute_result"
    }
   ],
   "source": [
    "uk_temp.loc[( uk_temp['west_coast_name_count'] > 0) ].shape"
   ]
  }
 ],
 "metadata": {
  "kernelspec": {
   "display_name": "Python 3",
   "language": "python",
   "name": "python3"
  },
  "language_info": {
   "codemirror_mode": {
    "name": "ipython",
    "version": 3
   },
   "file_extension": ".py",
   "mimetype": "text/x-python",
   "name": "python",
   "nbconvert_exporter": "python",
   "pygments_lexer": "ipython3",
   "version": "3.7.2"
  }
 },
 "nbformat": 4,
 "nbformat_minor": 2
}
